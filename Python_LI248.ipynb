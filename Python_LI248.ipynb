{
  "nbformat": 4,
  "nbformat_minor": 0,
  "metadata": {
    "colab": {
      "provenance": []
    },
    "kernelspec": {
      "name": "python3",
      "display_name": "Python 3"
    },
    "language_info": {
      "name": "python"
    }
  },
  "cells": [
    {
      "cell_type": "markdown",
      "source": [
        "# **2 - Maitriser la syntaxe de base**"
      ],
      "metadata": {
        "id": "OP-OJoFJ4tFo"
      }
    },
    {
      "cell_type": "markdown",
      "source": [
        "## Identifiant"
      ],
      "metadata": {
        "id": "EvvdGpkGDj1S"
      }
    },
    {
      "cell_type": "code",
      "execution_count": null,
      "metadata": {
        "colab": {
          "base_uri": "https://localhost:8080/"
        },
        "id": "dVPpangg4Dny",
        "outputId": "f5fa0ad4-38cf-49e6-cbd4-3d5f6b20f2c5"
      },
      "outputs": [
        {
          "output_type": "stream",
          "name": "stdout",
          "text": [
            "5\n",
            "10\n",
            "6\n",
            "10\n"
          ]
        }
      ],
      "source": [
        "a = 5\n",
        "b = a * 2\n",
        "print(a)\n",
        "print(b)\n",
        "a = 6\n",
        "print(a)\n",
        "print(b)\n"
      ]
    },
    {
      "cell_type": "markdown",
      "source": [
        "Tests et boucles: Expressions conditionelles"
      ],
      "metadata": {
        "id": "pGVBsREKjP7q"
      }
    },
    {
      "cell_type": "code",
      "source": [
        "puissance_batterie = \"2.21 gigawatts\"\n",
        "\n",
        "if puissance_batterie == \"2.21 gigawatts\":\n",
        "  print(\"la DeLorean est prête\")\n",
        "else:\n",
        "  print(\"la DeLorean n'est peut être pas prête\")"
      ],
      "metadata": {
        "colab": {
          "base_uri": "https://localhost:8080/"
        },
        "id": "JXdnjk2vj7WJ",
        "outputId": "4c19f7a1-7704-4b2e-8e92-9f3e84fd8602"
      },
      "execution_count": null,
      "outputs": [
        {
          "output_type": "stream",
          "name": "stdout",
          "text": [
            "la DeLorean est prête\n"
          ]
        }
      ]
    },
    {
      "cell_type": "code",
      "source": [
        "age_toto = 19\n",
        "\n",
        "if age_toto >= 18:\n",
        "  print(\"Toto est majeur\")"
      ],
      "metadata": {
        "colab": {
          "base_uri": "https://localhost:8080/"
        },
        "id": "qwMIb0mgi6Gj",
        "outputId": "725976df-43cd-49a5-9979-a56b3e8d8f3d"
      },
      "execution_count": null,
      "outputs": [
        {
          "output_type": "stream",
          "name": "stdout",
          "text": [
            "Toto est majeur\n"
          ]
        }
      ]
    },
    {
      "cell_type": "code",
      "source": [
        "age_toto = 19\n",
        "\n",
        "if age_toto >= 18:\n",
        "  print(\"Toto est majeur\")\n",
        "else:\n",
        "  print(\"Toto est mineur\")"
      ],
      "metadata": {
        "colab": {
          "base_uri": "https://localhost:8080/"
        },
        "id": "HjEvA-4kkraE",
        "outputId": "9780e13e-aa54-4c6a-a768-d219ae095088"
      },
      "execution_count": null,
      "outputs": [
        {
          "output_type": "stream",
          "name": "stdout",
          "text": [
            "Toto est majeur\n"
          ]
        }
      ]
    },
    {
      "cell_type": "code",
      "source": [
        "mpyenne_du_bac = 14\n",
        "\n",
        "if mpyenne_du_bac < 8:\n",
        "  print(\"Pas de bac, pas de rattrapage\")\n",
        "elif mpyenne_du_bac < 10:\n",
        "  print(\"Pas de bac, pas de rattrapage\")\n",
        "elif mpyenne_du_bac < 12:\n",
        "  print(\"Bac en poche, pas de mention\")\n",
        "elif mpyenne_du_bac < 14:\n",
        "  print(\"Bac en poche, mention Assez Bien\")\n",
        "elif mpyenne_du_bac < 16:\n",
        "  print(\"Bac en poche, mention Bien\")\n",
        "elif mpyenne_du_bac < 18:\n",
        "  print(\"Bac en poche, mention Très Bien\")\n",
        "else:\n",
        "  print(\"Bac en poche, mention Très Bien et Félicitations du jury\")"
      ],
      "metadata": {
        "colab": {
          "base_uri": "https://localhost:8080/"
        },
        "id": "X4D-GhMwk4wN",
        "outputId": "c7818ff9-6b76-4436-db5e-079ccbd3a893"
      },
      "execution_count": null,
      "outputs": [
        {
          "output_type": "stream",
          "name": "stdout",
          "text": [
            "Bac en poche, mention Bien\n"
          ]
        }
      ]
    },
    {
      "cell_type": "markdown",
      "source": [
        "## Les expressions"
      ],
      "metadata": {
        "id": "HCwfjC6J7x-C"
      }
    },
    {
      "cell_type": "markdown",
      "source": [
        "### Les expressions mathématiques"
      ],
      "metadata": {
        "id": "bep6bJ0671C-"
      }
    },
    {
      "cell_type": "code",
      "source": [
        "import math\n",
        "\n",
        "rayon_du_cercle = 5\n",
        "perimetre_du_cercle = 2 * math.pi * rayon_du_cercle\n",
        "aire_du_cercle = math.pi * rayon_du_cercle ** 2\n",
        "\n",
        "print(perimetre_du_cercle)\n",
        "print(aire_du_cercle)"
      ],
      "metadata": {
        "colab": {
          "base_uri": "https://localhost:8080/"
        },
        "id": "3Nce8OA18QTR",
        "outputId": "a63af418-da48-4e7f-d3e0-46cb0376ddd2"
      },
      "execution_count": null,
      "outputs": [
        {
          "output_type": "stream",
          "name": "stdout",
          "text": [
            "31.41592653589793\n",
            "78.53981633974483\n"
          ]
        }
      ]
    },
    {
      "cell_type": "markdown",
      "source": [
        "### Les expressions de concaténation de chaînes de caractères"
      ],
      "metadata": {
        "id": "29SWcnQC759E"
      }
    },
    {
      "cell_type": "code",
      "source": [
        "rayon_du_cercle = 5\n",
        "\n",
        "print(\"le rayon du cercle est \" + str(rayon_du_cercle))\n",
        "print(\"le rayon du cercle est %d\" % rayon_du_cercle)\n",
        "\n",
        "perimetre_du_cercle = 2 * math.pi * rayon_du_cercle\n",
        "aire_du_cercle = math.pi * rayon_du_cercle ** 2\n",
        "\n",
        "print(\"le périmètre d'un cercle de rayon %d est %.2f et son aire est %.3f\" % (rayon_du_cercle, perimetre_du_cercle, aire_du_cercle))\n"
      ],
      "metadata": {
        "colab": {
          "base_uri": "https://localhost:8080/"
        },
        "id": "yL7-jBmU9MNo",
        "outputId": "2c3c9f5c-e1d0-40f6-a21e-f52d21727cf5"
      },
      "execution_count": null,
      "outputs": [
        {
          "output_type": "stream",
          "name": "stdout",
          "text": [
            "le rayon du cercle est 5\n",
            "le rayon du cercle est 5\n",
            "le périmètre d'un cercle de rayon 5 est 31.42 et son aire est 78.540\n"
          ]
        }
      ]
    },
    {
      "cell_type": "markdown",
      "source": [
        "### Les expressions logiques"
      ],
      "metadata": {
        "id": "OK-iKm-M_CP_"
      }
    },
    {
      "cell_type": "code",
      "source": [
        "nombre1 = 50\n",
        "nombre2 = 31\n",
        "\n",
        "les_deux_sont_pairs = (nombre1 % 2 == 0) and (nombre2 % 2 == 0)\n",
        "au_moins_un_des_nombres_est_pair = (nombre1 % 2 == 0) or (nombre2 % 2 == 0)\n",
        "\n",
        "print(les_deux_sont_pairs)\n",
        "print(\"Les deux nombres sont pairs\" if les_deux_sont_pairs else \"Les deux nombres ne sont pas pairs\")\n",
        "\n",
        "print(au_moins_un_des_nombres_est_pair)\n",
        "print(\"au moins un des nombres est pair\" if au_moins_un_des_nombres_est_pair else \"aucun n'est pair\")"
      ],
      "metadata": {
        "colab": {
          "base_uri": "https://localhost:8080/"
        },
        "id": "1i6sRrXh_A-_",
        "outputId": "79def544-16b6-4105-de54-064dc31ad645"
      },
      "execution_count": null,
      "outputs": [
        {
          "output_type": "stream",
          "name": "stdout",
          "text": [
            "False\n",
            "Les deux nombres ne sont pas pairs\n",
            "True\n",
            "au moins un des nombres est pair\n"
          ]
        }
      ]
    },
    {
      "cell_type": "markdown",
      "source": [
        "\n",
        "### Les expressions d'indexation\n"
      ],
      "metadata": {
        "id": "-IEZntmTA3fE"
      }
    },
    {
      "cell_type": "code",
      "source": [
        "ma_liste = [0, 2, 4, 6, 8, 10]\n",
        "print(ma_liste[3])"
      ],
      "metadata": {
        "colab": {
          "base_uri": "https://localhost:8080/"
        },
        "id": "pO3GWo5hBBhC",
        "outputId": "97cdddea-f21b-4432-92cb-4a82bffe9ddb"
      },
      "execution_count": null,
      "outputs": [
        {
          "output_type": "stream",
          "name": "stdout",
          "text": [
            "6\n"
          ]
        }
      ]
    },
    {
      "cell_type": "markdown",
      "source": [
        "## Tests et boucles: divers exemples de boucle\n",
        "\n",
        "1.   Élément de liste\n",
        "2.   Élément de liste\n",
        "\n"
      ],
      "metadata": {
        "id": "sfIEbyAEqYyT"
      }
    },
    {
      "cell_type": "code",
      "source": [
        "compteur = 1\n",
        "\n",
        "while compteur < 10:\n",
        "  print(compteur)\n",
        "  compteur += 1\n",
        "\n",
        "print(\"boucle terminée\")"
      ],
      "metadata": {
        "colab": {
          "base_uri": "https://localhost:8080/"
        },
        "id": "CNoAobPzqgI3",
        "outputId": "2bbeff63-5087-469b-d032-10ac0c96718d"
      },
      "execution_count": null,
      "outputs": [
        {
          "output_type": "stream",
          "name": "stdout",
          "text": [
            "1\n",
            "2\n",
            "3\n",
            "4\n",
            "5\n",
            "6\n",
            "7\n",
            "8\n",
            "9\n",
            "boucle terminée\n"
          ]
        }
      ]
    },
    {
      "cell_type": "code",
      "source": [
        "compteur = 1\n",
        "\n",
        "while compteur < 10:\n",
        "  compteur += 1\n",
        "  if compteur % 2 == 0:\n",
        "    continue\n",
        "  print(compteur)\n",
        "\n",
        "print(\"boucle terminée\")"
      ],
      "metadata": {
        "colab": {
          "base_uri": "https://localhost:8080/"
        },
        "id": "IIoT3e95q3Bk",
        "outputId": "b55d44ef-fde2-46c9-84e2-99be2ae5c228"
      },
      "execution_count": null,
      "outputs": [
        {
          "output_type": "stream",
          "name": "stdout",
          "text": [
            "3\n",
            "5\n",
            "7\n",
            "9\n",
            "boucle terminée\n"
          ]
        }
      ]
    },
    {
      "cell_type": "code",
      "source": [
        "compteur = 1\n",
        "\n",
        "while compteur < 10:\n",
        "  print(compteur)\n",
        "  compteur += 1\n",
        "  if compteur % 2 == 0:\n",
        "    break\n",
        "\n",
        "\n",
        "print(\"boucle terminée\")"
      ],
      "metadata": {
        "colab": {
          "base_uri": "https://localhost:8080/"
        },
        "id": "77kt-EFzrbMx",
        "outputId": "d7cbc016-685b-4a87-ad8a-c98148687f8b"
      },
      "execution_count": null,
      "outputs": [
        {
          "output_type": "stream",
          "name": "stdout",
          "text": [
            "1\n",
            "boucle terminée\n"
          ]
        }
      ]
    },
    {
      "cell_type": "code",
      "source": [
        "liste_d_entier = [2,4,6,8,10]\n",
        "\n",
        "for entier in liste_d_entier:\n",
        "  print(entier)"
      ],
      "metadata": {
        "colab": {
          "base_uri": "https://localhost:8080/"
        },
        "id": "vzFXzFyvrmxN",
        "outputId": "ddd6dece-88f3-4773-ee61-cdcf85404a55"
      },
      "execution_count": null,
      "outputs": [
        {
          "output_type": "stream",
          "name": "stdout",
          "text": [
            "2\n",
            "4\n",
            "6\n",
            "8\n",
            "10\n"
          ]
        }
      ]
    },
    {
      "cell_type": "code",
      "source": [
        "for entier in range(1, 6):\n",
        "  print(entier)"
      ],
      "metadata": {
        "colab": {
          "base_uri": "https://localhost:8080/"
        },
        "id": "Tlz1NrwWr6j2",
        "outputId": "216a86b9-0e29-41ee-9983-15414624489b"
      },
      "execution_count": null,
      "outputs": [
        {
          "output_type": "stream",
          "name": "stdout",
          "text": [
            "1\n",
            "2\n",
            "3\n",
            "4\n",
            "5\n"
          ]
        }
      ]
    },
    {
      "cell_type": "markdown",
      "source": [
        "### Expression avancée: opérateur ternaire"
      ],
      "metadata": {
        "id": "ND5kOA25G3Vx"
      }
    },
    {
      "cell_type": "code",
      "source": [
        "print(\"Résultat si vraie\" if True else \"Résultat si faux\")"
      ],
      "metadata": {
        "colab": {
          "base_uri": "https://localhost:8080/"
        },
        "id": "pOznvCN_HGJv",
        "outputId": "6c35a240-daf2-4fcd-8a94-cb51e0b2024b"
      },
      "execution_count": null,
      "outputs": [
        {
          "output_type": "stream",
          "name": "stdout",
          "text": [
            "Résultat si vraie\n"
          ]
        }
      ]
    },
    {
      "cell_type": "markdown",
      "source": [
        "### Expression avancée: list comprehension"
      ],
      "metadata": {
        "id": "inO4oLXKIP6n"
      }
    },
    {
      "cell_type": "code",
      "source": [
        "valeur_iterable = range(5)\n",
        "print(list(valeur_iterable))\n",
        "\n",
        "exemple_list_comprehension = [ nombre * 2 for nombre in valeur_iterable]\n",
        "print(exemple_list_comprehension)"
      ],
      "metadata": {
        "colab": {
          "base_uri": "https://localhost:8080/"
        },
        "id": "9iNG895lIVV8",
        "outputId": "8b824d71-31be-431a-b0b3-6cd11fea4718"
      },
      "execution_count": null,
      "outputs": [
        {
          "output_type": "stream",
          "name": "stdout",
          "text": [
            "[0, 1, 2, 3, 4]\n",
            "[0, 2, 4, 6, 8]\n"
          ]
        }
      ]
    },
    {
      "cell_type": "markdown",
      "source": [
        "### **Expression avancée: tuple unpacking**"
      ],
      "metadata": {
        "id": "yMUTgV_HK8RU"
      }
    },
    {
      "cell_type": "code",
      "source": [
        "def ma_fonction():\n",
        "  return 10,15,\"resultat\"\n",
        "\n",
        "res = ma_fonction()\n",
        "print(res)\n",
        "\n",
        "a, _, _ = res\n",
        "\n",
        "print(a)\n",
        "print(_)\n",
        "\n",
        "a, b, c = (10, 15 ,20)\n",
        "print(a)\n",
        "print(b)\n",
        "print(c)\n"
      ],
      "metadata": {
        "colab": {
          "base_uri": "https://localhost:8080/"
        },
        "id": "glxxLDKTHduP",
        "outputId": "24ed6f40-0a9d-4d0d-f461-cc82445a64bc"
      },
      "execution_count": null,
      "outputs": [
        {
          "output_type": "stream",
          "name": "stdout",
          "text": [
            "(10, 15, 'resultat')\n",
            "10\n",
            "resultat\n",
            "10\n",
            "15\n",
            "20\n"
          ]
        }
      ]
    },
    {
      "cell_type": "markdown",
      "source": [
        "### TRAVAUX PRATIQUES: FIZZ BUZZ"
      ],
      "metadata": {
        "id": "ZjdGhHgqEZ5h"
      }
    },
    {
      "cell_type": "code",
      "source": [
        "# Afficher la chaîne de caractère Fizz\n",
        "print(\"\")"
      ],
      "metadata": {
        "colab": {
          "base_uri": "https://localhost:8080/"
        },
        "id": "1mYj8J0PEgTk",
        "outputId": "b8b347cf-d8e6-4f42-959f-8bfccc7365a7"
      },
      "execution_count": null,
      "outputs": [
        {
          "output_type": "stream",
          "name": "stdout",
          "text": [
            "\n"
          ]
        }
      ]
    },
    {
      "cell_type": "code",
      "source": [
        "# Afficher la chaîne de caractère Buzz"
      ],
      "metadata": {
        "id": "dbOGdAouEoU_"
      },
      "execution_count": null,
      "outputs": []
    },
    {
      "cell_type": "code",
      "source": [
        "# Afficher la chaine de caractère correspondant au nombre ci-dessous\n",
        "nombre = 5"
      ],
      "metadata": {
        "id": "4Lop_pQ4Ex01"
      },
      "execution_count": null,
      "outputs": []
    },
    {
      "cell_type": "code",
      "source": [
        "# Tester si un nombre est un multiple de 3\n",
        "nombre = 2\n",
        "\n",
        "if True:\n",
        "  print(\"nombre pair\")\n",
        "else:\n",
        "  print(\"nombre impair\")"
      ],
      "metadata": {
        "colab": {
          "base_uri": "https://localhost:8080/"
        },
        "id": "QAWPmhumE5wU",
        "outputId": "e808ab43-230a-4417-9322-2449397e22f1"
      },
      "execution_count": null,
      "outputs": [
        {
          "output_type": "stream",
          "name": "stdout",
          "text": [
            "nombre pair\n"
          ]
        }
      ]
    },
    {
      "cell_type": "code",
      "source": [
        "# Parcourir une boucle jusqu'à 100\n",
        "for nbre in range(12):\n",
        "  print(nbre)"
      ],
      "metadata": {
        "colab": {
          "base_uri": "https://localhost:8080/"
        },
        "id": "fQmsOBjTFMDQ",
        "outputId": "5dd30fd4-d4e1-465d-e47f-6315f9eadc23"
      },
      "execution_count": null,
      "outputs": [
        {
          "output_type": "stream",
          "name": "stdout",
          "text": [
            "0\n",
            "1\n",
            "2\n",
            "3\n",
            "4\n",
            "5\n",
            "6\n",
            "7\n",
            "8\n",
            "9\n",
            "10\n",
            "11\n"
          ]
        }
      ]
    },
    {
      "cell_type": "code",
      "source": [
        "# Combiner les expressions ci-dessous pour créer l'algorithme FizzBuzz"
      ],
      "metadata": {
        "id": "B4x-6KZTFZWd"
      },
      "execution_count": null,
      "outputs": []
    },
    {
      "cell_type": "markdown",
      "source": [
        "# **3 - Comment structurer son code**"
      ],
      "metadata": {
        "id": "fhm594sJ46Yv"
      }
    },
    {
      "cell_type": "markdown",
      "source": [
        "### Les fonctions spécifiques: StdLib - Fonctions **natives**"
      ],
      "metadata": {
        "id": "NgH7bJoa-FZi"
      }
    },
    {
      "cell_type": "code",
      "source": [],
      "metadata": {
        "id": "sgY_Ud3T-OH7"
      },
      "execution_count": null,
      "outputs": []
    },
    {
      "cell_type": "markdown",
      "source": [
        "### Exemple d'algorithmes FizzBuzz"
      ],
      "metadata": {
        "id": "0f8ZSokuM3m5"
      }
    },
    {
      "cell_type": "code",
      "source": [
        "for nombre in range(1, 16):\n",
        "  resultat = \"\"\n",
        "  if nombre % 3 == 0 and nombre % 5 == 0:\n",
        "    print(\"pour le nombre %d, le résultat est: FizzBuzz\" % nombre)\n",
        "  elif nombre % 3 == 0:\n",
        "    print(\"pour le nombre %d, le résultat est: Fizz\" % nombre)\n",
        "  elif nombre % 5 == 0:\n",
        "    print(\"pour le nombre %d, le résultat est: Buzz\" % nombre)\n",
        "  else:\n",
        "    print(\"pour le nombre %d, le résultat est: %s\"  % (nombre, str(nombre)))"
      ],
      "metadata": {
        "colab": {
          "base_uri": "https://localhost:8080/"
        },
        "id": "FR51WAPhQcTK",
        "outputId": "ec0d4089-4716-450f-c463-4c64e203d649"
      },
      "execution_count": null,
      "outputs": [
        {
          "output_type": "stream",
          "name": "stdout",
          "text": [
            "pour le nombre 1, le résultat est: 1\n",
            "pour le nombre 2, le résultat est: 2\n",
            "pour le nombre 3, le résultat est: Fizz\n",
            "pour le nombre 4, le résultat est: 4\n",
            "pour le nombre 5, le résultat est: Buzz\n",
            "pour le nombre 6, le résultat est: Fizz\n",
            "pour le nombre 7, le résultat est: 7\n",
            "pour le nombre 8, le résultat est: 8\n",
            "pour le nombre 9, le résultat est: Fizz\n",
            "pour le nombre 10, le résultat est: Buzz\n",
            "pour le nombre 11, le résultat est: 11\n",
            "pour le nombre 12, le résultat est: Fizz\n",
            "pour le nombre 13, le résultat est: 13\n",
            "pour le nombre 14, le résultat est: 14\n",
            "pour le nombre 15, le résultat est: FizzBuzz\n"
          ]
        }
      ]
    },
    {
      "cell_type": "code",
      "source": [
        "dict_valeur_special = {\n",
        "    3: \"Fizz\",\n",
        "    5: \"Buzz\"\n",
        "}\n",
        "\n",
        "def traitement_special(nombre, valeur_speciale):\n",
        "  if nombre % valeur_speciale == 0:\n",
        "    return dict_valeur_special[valeur_speciale]\n",
        "  return \"\"\n",
        "\n",
        "def traitement_des_valeurs_speciales(nombre):\n",
        "  resultat = \"\"\n",
        "  for valeur_speciale in dict_valeur_special.keys():\n",
        "      resultat += traitement_special(nombre, valeur_speciale)\n",
        "  return resultat\n",
        "\n",
        "def FizzBuzz(borne_max):\n",
        "  for nombre in range(1, borne_max):\n",
        "    resultat = traitement_des_valeurs_speciales(nombre)\n",
        "    print(\"pour le nombre %d, le résultat est: %s\" % (nombre, resultat if len(resultat) != 0 else str(nombre)))\n",
        "\n",
        "FizzBuzz(16)\n"
      ],
      "metadata": {
        "colab": {
          "base_uri": "https://localhost:8080/"
        },
        "id": "wTQ75JiQM8zb",
        "outputId": "e5f5063f-e94f-4ecc-d836-809e25fd50ad"
      },
      "execution_count": null,
      "outputs": [
        {
          "output_type": "stream",
          "name": "stdout",
          "text": [
            "pour le nombre 1, le résultat est: 1\n",
            "pour le nombre 2, le résultat est: 2\n",
            "pour le nombre 3, le résultat est: Fizz\n",
            "pour le nombre 4, le résultat est: 4\n",
            "pour le nombre 5, le résultat est: Buzz\n",
            "pour le nombre 6, le résultat est: Fizz\n",
            "pour le nombre 7, le résultat est: 7\n",
            "pour le nombre 8, le résultat est: 8\n",
            "pour le nombre 9, le résultat est: Fizz\n",
            "pour le nombre 10, le résultat est: Buzz\n",
            "pour le nombre 11, le résultat est: 11\n",
            "pour le nombre 12, le résultat est: Fizz\n",
            "pour le nombre 13, le résultat est: 13\n",
            "pour le nombre 14, le résultat est: 14\n",
            "pour le nombre 15, le résultat est: FizzBuzz\n"
          ]
        }
      ]
    },
    {
      "cell_type": "markdown",
      "source": [
        "### TRAVAUX PRATIQUES"
      ],
      "metadata": {
        "id": "4KsRZcaCJpfZ"
      }
    },
    {
      "cell_type": "markdown",
      "source": [
        "## Calcul de factorielle"
      ],
      "metadata": {
        "id": "0AjvUD4h3VPs"
      }
    },
    {
      "cell_type": "code",
      "source": [
        "def factorielle(n):\n",
        "  if n == 1:\n",
        "    return 1\n",
        "  return factorielle(n-1) * n"
      ],
      "metadata": {
        "id": "HmWjcWsC3DzA"
      },
      "execution_count": null,
      "outputs": []
    },
    {
      "cell_type": "code",
      "source": [
        "print(factorielle(5))"
      ],
      "metadata": {
        "colab": {
          "base_uri": "https://localhost:8080/"
        },
        "id": "xbd8BcgF3UNA",
        "outputId": "0e2c604c-2655-4bf5-b56c-6b709860bc5e"
      },
      "execution_count": null,
      "outputs": [
        {
          "output_type": "stream",
          "name": "stdout",
          "text": [
            "120\n"
          ]
        }
      ]
    },
    {
      "cell_type": "markdown",
      "source": [
        "### Recherche d'une valeur dans un tableau non trié"
      ],
      "metadata": {
        "id": "M4Ry4RKHJy_v"
      }
    },
    {
      "cell_type": "code",
      "source": [],
      "metadata": {
        "id": "vYcBpAB-J57r"
      },
      "execution_count": null,
      "outputs": []
    },
    {
      "cell_type": "markdown",
      "source": [
        "### Recherche d'une valeur dans un tableau trié"
      ],
      "metadata": {
        "id": "oqT7OLEtJ6Sm"
      }
    },
    {
      "cell_type": "code",
      "source": [],
      "metadata": {
        "id": "VpB89wk5KAw1"
      },
      "execution_count": null,
      "outputs": []
    },
    {
      "cell_type": "markdown",
      "source": [
        "### Calcul des premiers termes de la suite de Fibonacci"
      ],
      "metadata": {
        "id": "fBNHhNviKDAt"
      }
    },
    {
      "cell_type": "code",
      "source": [],
      "metadata": {
        "id": "EEsaEknbKIRv"
      },
      "execution_count": null,
      "outputs": []
    },
    {
      "cell_type": "markdown",
      "source": [
        "### Tri bulle d'une liste de nombres entiers"
      ],
      "metadata": {
        "id": "VpJ03zfUKJEY"
      }
    },
    {
      "cell_type": "code",
      "source": [],
      "metadata": {
        "id": "LFEW9vz4KLNQ"
      },
      "execution_count": null,
      "outputs": []
    },
    {
      "cell_type": "markdown",
      "source": [
        "# **4 - Les Algorithmes de base**"
      ],
      "metadata": {
        "id": "ZtVWTKYKsYL2"
      }
    },
    {
      "cell_type": "markdown",
      "source": [
        "### Les boucles prévisibles et imprévisibles"
      ],
      "metadata": {
        "id": "Y3Xh4f5RsjeE"
      }
    },
    {
      "cell_type": "markdown",
      "source": [
        "### Boucle prévisible"
      ],
      "metadata": {
        "id": "1BCe8Lf9sq8Q"
      }
    },
    {
      "cell_type": "code",
      "source": [
        "# Calcul de la somme des entiers de 1 à 10\n",
        "somme_entier_de_1_a_10 = 0\n",
        "for entier in range(1,11):\n",
        "  somme_entier_de_1_a_10 += entier\n",
        "\n",
        "print(\"La somme des entiers de 1 à 10 vaut %d\" % somme_entier_de_1_a_10)"
      ],
      "metadata": {
        "colab": {
          "base_uri": "https://localhost:8080/"
        },
        "id": "Xv45F0qos0dB",
        "outputId": "4400b663-bc08-410f-cd5d-4a19b996ff4c"
      },
      "execution_count": null,
      "outputs": [
        {
          "output_type": "stream",
          "name": "stdout",
          "text": [
            "La somme des entiers de 1 à 10 vaut 55\n"
          ]
        }
      ]
    },
    {
      "cell_type": "markdown",
      "source": [
        "### Boucle imprévisible"
      ],
      "metadata": {
        "id": "c75vHQRbswg_"
      }
    },
    {
      "cell_type": "code",
      "source": [
        "liste_de_valeurs = [\"Jamvier\", \"Javier\", \"Jajier\", \"JanJanvievier\", \"JanJanvierviez\", \"Jannier\", \"JAnvier\", \"JANvier\", \"Janvier\"]\n",
        "trouvée = False\n",
        "motif_a_rechercher = \"Janvier\"\n",
        "valeur_trouvée = \"\"\n",
        "\n",
        "for valeur in liste_de_valeurs:\n",
        "  if motif_a_rechercher in valeur:\n",
        "    trouvée = True\n",
        "    valeur_trouvée = valeur\n",
        "    break\n",
        "\n",
        "print((\"Valeur: %s non trouvée\" % motif_a_rechercher) if not trouvée else (\"Valeur %s trouvée dans la chaîne %s\" % (motif_a_rechercher, valeur_trouvée)))\n"
      ],
      "metadata": {
        "colab": {
          "base_uri": "https://localhost:8080/"
        },
        "id": "e_ASvV64tr8b",
        "outputId": "e906fae5-25b8-453a-ee3e-e007a3d6e3a5"
      },
      "execution_count": null,
      "outputs": [
        {
          "output_type": "stream",
          "name": "stdout",
          "text": [
            "True\n",
            "JanJanvierviez\n",
            "Valeur Janvier trouvée dans la chaîne JanJanvierviez\n"
          ]
        }
      ]
    },
    {
      "cell_type": "markdown",
      "source": [
        "# **5 - La structuration des données**"
      ],
      "metadata": {
        "id": "NVr2vQVY5HS1"
      }
    },
    {
      "cell_type": "markdown",
      "source": [
        "## Les tuples"
      ],
      "metadata": {
        "id": "xZDL9_YMkp_T"
      }
    },
    {
      "cell_type": "code",
      "source": [
        "mon_tuple = (2,3,5)\n",
        "\n",
        "print(mon_tuple[0])"
      ],
      "metadata": {
        "colab": {
          "base_uri": "https://localhost:8080/"
        },
        "id": "HDBmu6KVktfw",
        "outputId": "d4968674-d444-4de1-c9ba-5d7dc278d4f5"
      },
      "execution_count": null,
      "outputs": [
        {
          "output_type": "stream",
          "name": "stdout",
          "text": [
            "2\n"
          ]
        }
      ]
    },
    {
      "cell_type": "code",
      "source": [
        "mon_tuple[2] = 8"
      ],
      "metadata": {
        "id": "sx2XG0IFk9xl"
      },
      "execution_count": null,
      "outputs": []
    },
    {
      "cell_type": "markdown",
      "source": [
        "### Les listes"
      ],
      "metadata": {
        "id": "nLCZRW4c58Jb"
      }
    },
    {
      "cell_type": "code",
      "source": [],
      "metadata": {
        "id": "gCeQRd17k_u1"
      },
      "execution_count": null,
      "outputs": []
    },
    {
      "cell_type": "markdown",
      "source": [
        "### Les dictionnaires"
      ],
      "metadata": {
        "id": "SsQROtm85_xk"
      }
    },
    {
      "cell_type": "code",
      "source": [],
      "metadata": {
        "id": "cM2FCtxX6FWl"
      },
      "execution_count": null,
      "outputs": []
    },
    {
      "cell_type": "markdown",
      "source": [
        "### Les sets"
      ],
      "metadata": {
        "id": "6XGHhJfE6F58"
      }
    },
    {
      "cell_type": "code",
      "source": [],
      "metadata": {
        "id": "Q_0eeDRK6Iey"
      },
      "execution_count": null,
      "outputs": []
    },
    {
      "cell_type": "markdown",
      "source": [
        "# 6 - Les calculs"
      ],
      "metadata": {
        "id": "FwHlLygK5NPD"
      }
    },
    {
      "cell_type": "markdown",
      "source": [
        "### Module datetime"
      ],
      "metadata": {
        "id": "60-yskRF6i2I"
      }
    },
    {
      "cell_type": "code",
      "source": [
        "from datetime import datetime\n",
        "\n",
        "now = datetime.now()\n",
        "print(now)\n"
      ],
      "metadata": {
        "colab": {
          "base_uri": "https://localhost:8080/"
        },
        "id": "wCjgh8s76mjZ",
        "outputId": "36868b30-6279-4a68-a89f-08a20fcda112"
      },
      "execution_count": null,
      "outputs": [
        {
          "output_type": "stream",
          "name": "stdout",
          "text": [
            "2023-06-17 18:20:31.560305\n"
          ]
        }
      ]
    },
    {
      "cell_type": "code",
      "source": [
        "from datetime import date\n",
        "\n",
        "my_date = date(2023, 5, 15)\n",
        "print(my_date)"
      ],
      "metadata": {
        "colab": {
          "base_uri": "https://localhost:8080/"
        },
        "id": "9JSyXTu8lnjO",
        "outputId": "a7626df2-a14a-4b7e-8178-57645d3f9ff3"
      },
      "execution_count": null,
      "outputs": [
        {
          "output_type": "stream",
          "name": "stdout",
          "text": [
            "2023-05-15\n"
          ]
        }
      ]
    },
    {
      "cell_type": "code",
      "source": [
        "from datetime import time\n",
        "\n",
        "my_time = time(9, 30)\n",
        "print(my_time)\n"
      ],
      "metadata": {
        "colab": {
          "base_uri": "https://localhost:8080/"
        },
        "id": "824Lw9bWluIc",
        "outputId": "f4a3c135-8e1c-4006-ebac-a4a916420a02"
      },
      "execution_count": null,
      "outputs": [
        {
          "output_type": "stream",
          "name": "stdout",
          "text": [
            "09:30:00\n"
          ]
        }
      ]
    },
    {
      "cell_type": "code",
      "source": [
        "from datetime import datetime, timedelta\n",
        "\n",
        "str_date = \"2022-10-31\"\n",
        "my_date = datetime.strptime(str_date, \"%Y-%m-%d\")\n",
        "print(my_date)\n",
        "\n",
        "duration = timedelta(days=7, hours=3)\n",
        "new_date = my_date + duration\n",
        "print(new_date)\n"
      ],
      "metadata": {
        "colab": {
          "base_uri": "https://localhost:8080/"
        },
        "id": "j8EE_ptgl4f4",
        "outputId": "82db98c7-213b-4bfb-ef16-5d3392eafcf0"
      },
      "execution_count": null,
      "outputs": [
        {
          "output_type": "stream",
          "name": "stdout",
          "text": [
            "2022-10-31 00:00:00\n",
            "2022-11-07 03:00:00\n"
          ]
        }
      ]
    },
    {
      "cell_type": "markdown",
      "source": [
        "### Module time"
      ],
      "metadata": {
        "id": "nlm6mWhsmBGW"
      }
    },
    {
      "cell_type": "code",
      "source": [
        "import time\n",
        "\n",
        "current_time = time.time()\n",
        "print(current_time)"
      ],
      "metadata": {
        "colab": {
          "base_uri": "https://localhost:8080/"
        },
        "id": "8mSu03GLmHGR",
        "outputId": "e2f145d6-c2fc-4573-c795-33bb09b32465"
      },
      "execution_count": null,
      "outputs": [
        {
          "output_type": "stream",
          "name": "stdout",
          "text": [
            "1687026367.2293346\n"
          ]
        }
      ]
    },
    {
      "cell_type": "code",
      "source": [
        "import time\n",
        "\n",
        "current_time = time.time()\n",
        "readable_time = time.ctime(current_time)\n",
        "print(readable_time)\n"
      ],
      "metadata": {
        "colab": {
          "base_uri": "https://localhost:8080/"
        },
        "id": "nntGzk-Lm4aO",
        "outputId": "d00915a9-fe3b-4388-e6a7-6c2585aa517a"
      },
      "execution_count": null,
      "outputs": [
        {
          "output_type": "stream",
          "name": "stdout",
          "text": [
            "Sat Jun 17 18:26:31 2023\n"
          ]
        }
      ]
    },
    {
      "cell_type": "code",
      "source": [
        "import time\n",
        "\n",
        "print(\"Avant la pause\")\n",
        "time.sleep(5)\n",
        "print(\"Après la pause\")\n"
      ],
      "metadata": {
        "colab": {
          "base_uri": "https://localhost:8080/"
        },
        "id": "-HDcjv3bm_ca",
        "outputId": "61ea4a8f-4212-477d-ab11-ec7fa98194ad"
      },
      "execution_count": null,
      "outputs": [
        {
          "output_type": "stream",
          "name": "stdout",
          "text": [
            "Avant la pause\n",
            "Après la pause\n"
          ]
        }
      ]
    },
    {
      "cell_type": "code",
      "source": [
        "import time\n",
        "\n",
        "current_time = time.localtime()\n",
        "formatted_time = time.strftime(\"%Y-%m-%d %H:%M:%S\", current_time)\n",
        "print(formatted_time)\n"
      ],
      "metadata": {
        "colab": {
          "base_uri": "https://localhost:8080/"
        },
        "id": "PntBK0ROnGOp",
        "outputId": "d2b716d5-b468-4435-87b2-848f010f5fe5"
      },
      "execution_count": null,
      "outputs": [
        {
          "output_type": "stream",
          "name": "stdout",
          "text": [
            "2023-06-17 18:27:33\n"
          ]
        }
      ]
    },
    {
      "cell_type": "markdown",
      "source": [
        "### Bibliothèque dateutil"
      ],
      "metadata": {
        "id": "Sem4OD5knoG-"
      }
    },
    {
      "cell_type": "code",
      "source": [
        "from dateutil.parser import parse\n",
        "\n",
        "str_date = \"15 mai 2023\"\n",
        "parsed_date = parse(str_date)\n",
        "print(parsed_date)\n"
      ],
      "metadata": {
        "colab": {
          "base_uri": "https://localhost:8080/",
          "height": 363
        },
        "id": "X42UcMrXnsUn",
        "outputId": "fed97e6b-8721-4e4a-980e-cc80d3f204e9"
      },
      "execution_count": null,
      "outputs": [
        {
          "output_type": "error",
          "ename": "ParserError",
          "evalue": "ignored",
          "traceback": [
            "\u001b[0;31m---------------------------------------------------------------------------\u001b[0m",
            "\u001b[0;31mParserError\u001b[0m                               Traceback (most recent call last)",
            "\u001b[0;32m<ipython-input-13-074596083a31>\u001b[0m in \u001b[0;36m<cell line: 4>\u001b[0;34m()\u001b[0m\n\u001b[1;32m      2\u001b[0m \u001b[0;34m\u001b[0m\u001b[0m\n\u001b[1;32m      3\u001b[0m \u001b[0mstr_date\u001b[0m \u001b[0;34m=\u001b[0m \u001b[0;34m\"15 mai 2023\"\u001b[0m\u001b[0;34m\u001b[0m\u001b[0;34m\u001b[0m\u001b[0m\n\u001b[0;32m----> 4\u001b[0;31m \u001b[0mparsed_date\u001b[0m \u001b[0;34m=\u001b[0m \u001b[0mparse\u001b[0m\u001b[0;34m(\u001b[0m\u001b[0mstr_date\u001b[0m\u001b[0;34m)\u001b[0m\u001b[0;34m\u001b[0m\u001b[0;34m\u001b[0m\u001b[0m\n\u001b[0m\u001b[1;32m      5\u001b[0m \u001b[0mprint\u001b[0m\u001b[0;34m(\u001b[0m\u001b[0mparsed_date\u001b[0m\u001b[0;34m)\u001b[0m\u001b[0;34m\u001b[0m\u001b[0;34m\u001b[0m\u001b[0m\n",
            "\u001b[0;32m/usr/local/lib/python3.10/dist-packages/dateutil/parser/_parser.py\u001b[0m in \u001b[0;36mparse\u001b[0;34m(timestr, parserinfo, **kwargs)\u001b[0m\n\u001b[1;32m   1366\u001b[0m         \u001b[0;32mreturn\u001b[0m \u001b[0mparser\u001b[0m\u001b[0;34m(\u001b[0m\u001b[0mparserinfo\u001b[0m\u001b[0;34m)\u001b[0m\u001b[0;34m.\u001b[0m\u001b[0mparse\u001b[0m\u001b[0;34m(\u001b[0m\u001b[0mtimestr\u001b[0m\u001b[0;34m,\u001b[0m \u001b[0;34m**\u001b[0m\u001b[0mkwargs\u001b[0m\u001b[0;34m)\u001b[0m\u001b[0;34m\u001b[0m\u001b[0;34m\u001b[0m\u001b[0m\n\u001b[1;32m   1367\u001b[0m     \u001b[0;32melse\u001b[0m\u001b[0;34m:\u001b[0m\u001b[0;34m\u001b[0m\u001b[0;34m\u001b[0m\u001b[0m\n\u001b[0;32m-> 1368\u001b[0;31m         \u001b[0;32mreturn\u001b[0m \u001b[0mDEFAULTPARSER\u001b[0m\u001b[0;34m.\u001b[0m\u001b[0mparse\u001b[0m\u001b[0;34m(\u001b[0m\u001b[0mtimestr\u001b[0m\u001b[0;34m,\u001b[0m \u001b[0;34m**\u001b[0m\u001b[0mkwargs\u001b[0m\u001b[0;34m)\u001b[0m\u001b[0;34m\u001b[0m\u001b[0;34m\u001b[0m\u001b[0m\n\u001b[0m\u001b[1;32m   1369\u001b[0m \u001b[0;34m\u001b[0m\u001b[0m\n\u001b[1;32m   1370\u001b[0m \u001b[0;34m\u001b[0m\u001b[0m\n",
            "\u001b[0;32m/usr/local/lib/python3.10/dist-packages/dateutil/parser/_parser.py\u001b[0m in \u001b[0;36mparse\u001b[0;34m(self, timestr, default, ignoretz, tzinfos, **kwargs)\u001b[0m\n\u001b[1;32m    641\u001b[0m \u001b[0;34m\u001b[0m\u001b[0m\n\u001b[1;32m    642\u001b[0m         \u001b[0;32mif\u001b[0m \u001b[0mres\u001b[0m \u001b[0;32mis\u001b[0m \u001b[0;32mNone\u001b[0m\u001b[0;34m:\u001b[0m\u001b[0;34m\u001b[0m\u001b[0;34m\u001b[0m\u001b[0m\n\u001b[0;32m--> 643\u001b[0;31m             \u001b[0;32mraise\u001b[0m \u001b[0mParserError\u001b[0m\u001b[0;34m(\u001b[0m\u001b[0;34m\"Unknown string format: %s\"\u001b[0m\u001b[0;34m,\u001b[0m \u001b[0mtimestr\u001b[0m\u001b[0;34m)\u001b[0m\u001b[0;34m\u001b[0m\u001b[0;34m\u001b[0m\u001b[0m\n\u001b[0m\u001b[1;32m    644\u001b[0m \u001b[0;34m\u001b[0m\u001b[0m\n\u001b[1;32m    645\u001b[0m         \u001b[0;32mif\u001b[0m \u001b[0mlen\u001b[0m\u001b[0;34m(\u001b[0m\u001b[0mres\u001b[0m\u001b[0;34m)\u001b[0m \u001b[0;34m==\u001b[0m \u001b[0;36m0\u001b[0m\u001b[0;34m:\u001b[0m\u001b[0;34m\u001b[0m\u001b[0;34m\u001b[0m\u001b[0m\n",
            "\u001b[0;31mParserError\u001b[0m: Unknown string format: 15 mai 2023"
          ]
        }
      ]
    },
    {
      "cell_type": "code",
      "source": [
        "from datetime import datetime\n",
        "from dateutil import tz\n",
        "\n",
        "dt = datetime(2023, 5, 15, 12, 0)\n",
        "tz_ny = tz.gettz('America/New_York')\n",
        "tz_paris = tz.gettz('Europe/Paris')\n",
        "\n",
        "dt_ny = dt.astimezone(tz_ny)\n",
        "dt_paris = dt.astimezone(tz_paris)\n",
        "\n",
        "print(dt_ny)\n",
        "print(dt_paris)\n"
      ],
      "metadata": {
        "colab": {
          "base_uri": "https://localhost:8080/"
        },
        "id": "sI6KGvncnysD",
        "outputId": "d6007cd0-7980-4ab2-b097-72011160e3c0"
      },
      "execution_count": null,
      "outputs": [
        {
          "output_type": "stream",
          "name": "stdout",
          "text": [
            "2023-05-15 08:00:00-04:00\n",
            "2023-05-15 14:00:00+02:00\n"
          ]
        }
      ]
    },
    {
      "cell_type": "code",
      "source": [
        "from datetime import datetime, timedelta\n",
        "from dateutil.relativedelta import relativedelta\n",
        "\n",
        "dt = datetime(2023, 5, 15)\n",
        "dt_plus_7_days = dt + timedelta(days=7)\n",
        "dt_minus_1_month = dt - relativedelta(months=1)\n",
        "dt_plus_1_year = dt + relativedelta(years=1)\n",
        "\n",
        "print(dt_plus_7_days)\n",
        "print(dt_minus_1_month)\n",
        "print(dt_plus_1_year)\n"
      ],
      "metadata": {
        "colab": {
          "base_uri": "https://localhost:8080/"
        },
        "id": "0B0V67MGn4Na",
        "outputId": "9962ae85-f2a8-48b0-f188-856ac737e19e"
      },
      "execution_count": null,
      "outputs": [
        {
          "output_type": "stream",
          "name": "stdout",
          "text": [
            "2023-05-22 00:00:00\n",
            "2023-04-15 00:00:00\n",
            "2024-05-15 00:00:00\n"
          ]
        }
      ]
    },
    {
      "cell_type": "markdown",
      "source": [
        "### Bibliothèque Pandas"
      ],
      "metadata": {
        "id": "IDwL9pHnpD72"
      }
    },
    {
      "cell_type": "code",
      "source": [
        "import pandas as pd\n",
        "\n",
        "dates = pd.DatetimeIndex(['2023-05-15', '2023-05-16', '2023-05-17'])\n",
        "values = [10, 20, 30]\n",
        "series = pd.Series(values, index=dates)\n",
        "print(series)\n"
      ],
      "metadata": {
        "colab": {
          "base_uri": "https://localhost:8080/"
        },
        "id": "2SgzYvtJpHQv",
        "outputId": "efc619e4-5f1e-4b5c-cece-622ef1887c99"
      },
      "execution_count": null,
      "outputs": [
        {
          "output_type": "stream",
          "name": "stdout",
          "text": [
            "2023-05-15    10\n",
            "2023-05-16    20\n",
            "2023-05-17    30\n",
            "dtype: int64\n"
          ]
        }
      ]
    },
    {
      "cell_type": "code",
      "source": [
        "import pandas as pd\n",
        "\n",
        "date_str = '2023-05-15'\n",
        "dt = pd.to_datetime(date_str)\n",
        "print(dt)\n",
        "\n",
        "start_date = '2023-05-15'\n",
        "end_date = '2023-05-20'\n",
        "date_range = pd.date_range(start=start_date, end=end_date)\n",
        "print(date_range)\n"
      ],
      "metadata": {
        "colab": {
          "base_uri": "https://localhost:8080/"
        },
        "id": "6IC5wPoqpMSt",
        "outputId": "524879fc-2e68-4a1c-df03-17b07c18d3ca"
      },
      "execution_count": null,
      "outputs": [
        {
          "output_type": "stream",
          "name": "stdout",
          "text": [
            "2023-05-15 00:00:00\n",
            "DatetimeIndex(['2023-05-15', '2023-05-16', '2023-05-17', '2023-05-18',\n",
            "               '2023-05-19', '2023-05-20'],\n",
            "              dtype='datetime64[ns]', freq='D')\n"
          ]
        }
      ]
    },
    {
      "cell_type": "code",
      "source": [
        "import pandas as pd\n",
        "\n",
        "series_shifted = series.shift(periods=1)\n",
        "print(series_shifted)\n",
        "\n",
        "monthly_average = series.resample('M').mean()\n",
        "print(monthly_average)\n",
        "\n",
        "rolling_average = series.rolling(window=3).mean()\n",
        "print(rolling_average)\n"
      ],
      "metadata": {
        "colab": {
          "base_uri": "https://localhost:8080/"
        },
        "id": "uhIj86FSpUCi",
        "outputId": "bf377184-2e02-4975-a090-64cc100244a2"
      },
      "execution_count": null,
      "outputs": [
        {
          "output_type": "stream",
          "name": "stdout",
          "text": [
            "2023-05-15     NaN\n",
            "2023-05-16    10.0\n",
            "2023-05-17    20.0\n",
            "dtype: float64\n",
            "2023-05-31    20.0\n",
            "Freq: M, dtype: float64\n",
            "2023-05-15     NaN\n",
            "2023-05-16     NaN\n",
            "2023-05-17    20.0\n",
            "dtype: float64\n"
          ]
        }
      ]
    },
    {
      "cell_type": "code",
      "source": [
        "import pandas as pd\n",
        "\n",
        "date_str = '2023-05-15'\n",
        "import pandas as pd\n",
        "\n",
        "# Ajout d'une durée à une date\n",
        "dt_plus_1_day = dt + pd.Timedelta(days=1)\n",
        "print(dt_plus_1_day)\n",
        "\n",
        "# Calcul de la différence entre deux dates\n",
        "dt1 = pd.to_datetime('2023-05-15')\n",
        "dt2 = pd.to_datetime('2023-05-20')\n",
        "diff = dt2 - dt1\n",
        "print(diff)\n",
        "\n"
      ],
      "metadata": {
        "colab": {
          "base_uri": "https://localhost:8080/"
        },
        "id": "w0uD3FbxphNm",
        "outputId": "6c51fcfe-4cd4-48f7-d7a4-825a47c83359"
      },
      "execution_count": null,
      "outputs": [
        {
          "output_type": "stream",
          "name": "stdout",
          "text": [
            "2023-05-16 00:00:00\n",
            "5 days 00:00:00\n"
          ]
        }
      ]
    },
    {
      "cell_type": "markdown",
      "source": [
        "# 7 - Les bases de la programmation objet"
      ],
      "metadata": {
        "id": "UsU45MXq5Qbr"
      }
    },
    {
      "cell_type": "markdown",
      "source": [
        "## Instanciation, destruction"
      ],
      "metadata": {
        "id": "LY1ot8nysQKB"
      }
    },
    {
      "cell_type": "code",
      "source": [
        "class MaPremiereClasse:\n",
        "  def __init__(self, nom):\n",
        "    self.nom = nom\n",
        "    print(\"Construction de l'objet de nom: \" + self.nom)"
      ],
      "metadata": {
        "id": "1WrZi_dYsPxF"
      },
      "execution_count": null,
      "outputs": []
    },
    {
      "cell_type": "code",
      "source": [
        "mon_premier_objet = MaPremiereClasse(\"toto\")"
      ],
      "metadata": {
        "colab": {
          "base_uri": "https://localhost:8080/"
        },
        "id": "oO1erJ7usqfk",
        "outputId": "fe20343c-7d4b-48e0-b422-c0f7c58fe07f"
      },
      "execution_count": null,
      "outputs": [
        {
          "output_type": "stream",
          "name": "stdout",
          "text": [
            "Construction de l'objet de nom: toto\n"
          ]
        }
      ]
    },
    {
      "cell_type": "code",
      "source": [
        "class MaSecondeClasse:\n",
        "  def __init__(self, nom):\n",
        "    self.nom = nom\n",
        "    print(\"Construction de l'objet de nom: \" + self.nom)\n",
        "\n",
        "  def __del__(self):\n",
        "    print(\"Destruction de l'objet de nom: \" + self.nom)"
      ],
      "metadata": {
        "id": "C0E9ewBvtEN-"
      },
      "execution_count": null,
      "outputs": []
    },
    {
      "cell_type": "code",
      "source": [
        "mon_second_objet = MaSecondeClasse(\"toto\")\n",
        "del mon_second_objet"
      ],
      "metadata": {
        "colab": {
          "base_uri": "https://localhost:8080/"
        },
        "id": "H5HHlcOWtP7c",
        "outputId": "ee9cb908-4f5a-4c78-a30f-871d13016ed8"
      },
      "execution_count": null,
      "outputs": [
        {
          "output_type": "stream",
          "name": "stdout",
          "text": [
            "Construction de l'objet de nom: toto\n",
            "Destruction de l'objet de nom: toto\n"
          ]
        }
      ]
    },
    {
      "cell_type": "markdown",
      "source": [
        "## Encapsulation, aggrégation"
      ],
      "metadata": {
        "id": "1B6vBeb50WVN"
      }
    },
    {
      "cell_type": "code",
      "source": [
        "class Pneu:\n",
        "  def __init__(self, marque):\n",
        "    self.marque = marque\n",
        "\n",
        "  def gonfler(self):\n",
        "    print(\"Pneu gonflé\")\n",
        "\n",
        "\n",
        "class Roue:\n",
        "  pneu = Pneu(\"Goodyear\")\n",
        "\n",
        "\n",
        "class Moteur:\n",
        "  def __init__(self, puissance):\n",
        "    self.puissance = puissance\n",
        "\n",
        "  def demarrer(self):\n",
        "    print(\"Moteur démarré\")\n",
        "\n",
        "  def arreter(self):\n",
        "    print(\"Moteur arreté\")\n",
        "\n",
        "\n",
        "class Voiture:\n",
        "  roues = [Roue(), Roue(), Roue(), Roue()]\n",
        "  moteur = Moteur(\"16CV\")\n",
        "\n",
        "  def __init__(self, plaque):\n",
        "    self.plaque = plaque\n",
        "\n",
        "  def demarrer(self):\n",
        "    print(\"Demarrage de la voiture\")\n",
        "    self.moteur.demarrer()"
      ],
      "metadata": {
        "id": "Zxh2gD8H0b71"
      },
      "execution_count": null,
      "outputs": []
    },
    {
      "cell_type": "code",
      "source": [
        "ma_voiture = Voiture(\"45056FR\")\n",
        "ma_voiture.demarrer()"
      ],
      "metadata": {
        "colab": {
          "base_uri": "https://localhost:8080/"
        },
        "id": "FtmChG8r2F4G",
        "outputId": "030c837e-964b-423a-9f99-2c00b2654fed"
      },
      "execution_count": null,
      "outputs": [
        {
          "output_type": "stream",
          "name": "stdout",
          "text": [
            "Demarrage de la voiture\n",
            "Moteur démarré\n"
          ]
        }
      ]
    },
    {
      "cell_type": "markdown",
      "source": [
        "## **Héritage**"
      ],
      "metadata": {
        "id": "rjueG87E3iPz"
      }
    },
    {
      "cell_type": "code",
      "source": [
        "class Mammifère:\n",
        "  def __init__(self):\n",
        "    print(\"Constructeur Mammifère\")\n",
        "\n",
        "  def allaiter(self):\n",
        "    print(\"allaiter\")"
      ],
      "metadata": {
        "id": "aVui3IF13mBt"
      },
      "execution_count": null,
      "outputs": []
    },
    {
      "cell_type": "code",
      "source": [
        "class Félidé(Mammifère):\n",
        "  def __init__(self):\n",
        "    print(\"Constructeur Félidé\")\n",
        "\n",
        "  def laper(self):\n",
        "    print(\"laper\")\n",
        "\n",
        "\n",
        "class Cétacé(Mammifère):\n",
        "  def __init__(self):\n",
        "    print(\"Constructeur Cétacé\")\n",
        "\n",
        "  def nager(self):\n",
        "    print(\"nager\")"
      ],
      "metadata": {
        "id": "biCaTLoW3yxl"
      },
      "execution_count": null,
      "outputs": []
    },
    {
      "cell_type": "code",
      "source": [
        "mamm = Mammifère()\n",
        "mamm.allaiter()\n",
        "\n",
        "chat = Félidé()\n",
        "chat.laper()\n",
        "chat.allaiter()\n",
        "\n",
        "baleine = Cétacé()\n",
        "baleine.nager()\n",
        "baleine.allaiter()\n"
      ],
      "metadata": {
        "colab": {
          "base_uri": "https://localhost:8080/"
        },
        "id": "FqJ6QLSx4Ek_",
        "outputId": "f0a0f618-b34b-422b-9cc7-4ffad24cb541"
      },
      "execution_count": null,
      "outputs": [
        {
          "output_type": "stream",
          "name": "stdout",
          "text": [
            "Constructeur Mammifère\n",
            "allaiter\n",
            "Constructeur Félidé\n",
            "laper\n",
            "allaiter\n",
            "Constructeur Cétacé\n",
            "nager\n",
            "allaiter\n"
          ]
        }
      ]
    },
    {
      "cell_type": "code",
      "source": [
        "class Male(Mammifère):\n",
        "  def __init__(self):\n",
        "    print(\"Constructeur Male\")\n",
        "\n",
        "  def allaiter(self):\n",
        "    print(\"Pas possible\")\n",
        "\n",
        "\n",
        "class Femelle(Mammifère):\n",
        "  def __init__(self):\n",
        "    print(\"Constructeur Femelle\")\n",
        "\n",
        "  def allaiter(self):\n",
        "    print(\"Let's go\")\n"
      ],
      "metadata": {
        "id": "uJ23KSaW98gb"
      },
      "execution_count": null,
      "outputs": []
    },
    {
      "cell_type": "code",
      "source": [
        "mamm = Mammifère()\n",
        "mamm.allaiter()\n",
        "\n",
        "male = Male()\n",
        "male.allaiter()\n",
        "\n",
        "femelle = Femelle()\n",
        "femelle.allaiter()\n"
      ],
      "metadata": {
        "colab": {
          "base_uri": "https://localhost:8080/"
        },
        "id": "gj7ppopM-O1U",
        "outputId": "6edb0659-7398-4d5b-af51-b53687c9aa08"
      },
      "execution_count": null,
      "outputs": [
        {
          "output_type": "stream",
          "name": "stdout",
          "text": [
            "Constructeur Mammifère\n",
            "allaiter\n",
            "Constructeur Male\n",
            "Pas possible\n",
            "Constructeur Femelle\n",
            "Let's go\n"
          ]
        }
      ]
    },
    {
      "cell_type": "markdown",
      "source": [
        "### **Introspection**"
      ],
      "metadata": {
        "id": "jcdm16zCDBCH"
      }
    },
    {
      "cell_type": "code",
      "source": [
        "print(type(Mammifère))\n",
        "print(type(mamm))\n",
        "print(dir(mamm))\n",
        "\n",
        "print(type(femelle))\n",
        "print(type(Femelle))\n",
        "print(type(baleine))\n",
        "\n",
        "getattr(baleine, \"allaiter\")\n",
        "getattr(baleine, \"nager\")\n"
      ],
      "metadata": {
        "colab": {
          "base_uri": "https://localhost:8080/"
        },
        "id": "tQpBH27HDHct",
        "outputId": "4399ac4d-db1a-43ee-cfd4-8224a1952f4b"
      },
      "execution_count": null,
      "outputs": [
        {
          "output_type": "stream",
          "name": "stdout",
          "text": [
            "<class 'type'>\n",
            "<class '__main__.Mammifère'>\n",
            "['__class__', '__delattr__', '__dict__', '__dir__', '__doc__', '__eq__', '__format__', '__ge__', '__getattribute__', '__gt__', '__hash__', '__init__', '__init_subclass__', '__le__', '__lt__', '__module__', '__ne__', '__new__', '__reduce__', '__reduce_ex__', '__repr__', '__setattr__', '__sizeof__', '__str__', '__subclasshook__', '__weakref__', 'allaiter']\n",
            "<class '__main__.Femelle'>\n",
            "<class 'type'>\n",
            "<class '__main__.Cétacé'>\n"
          ]
        },
        {
          "output_type": "execute_result",
          "data": {
            "text/plain": [
              "<bound method Cétacé.nager of <__main__.Cétacé object at 0x7f340d9f51e0>>"
            ]
          },
          "metadata": {},
          "execution_count": 22
        }
      ]
    },
    {
      "cell_type": "markdown",
      "source": [
        "### **TRAVAUX PRATIQUES: Guess the number**"
      ],
      "metadata": {
        "id": "m_ganFXJDILU"
      }
    },
    {
      "cell_type": "markdown",
      "source": [
        "### **Choisir un nombre entier entre 1 et 100 aléatoirement et stocker le dans une variable**"
      ],
      "metadata": {
        "id": "vDslSxA2G1zd"
      }
    },
    {
      "cell_type": "code",
      "source": [
        "import random\n",
        "numberToGuess = random.randint(0,100)\n",
        "print(numberToGuess)"
      ],
      "metadata": {
        "id": "cM3wRtcUHDDu",
        "colab": {
          "base_uri": "https://localhost:8080/"
        },
        "outputId": "7bf8d89c-32da-4dd4-a841-50606a745bb7"
      },
      "execution_count": null,
      "outputs": [
        {
          "output_type": "stream",
          "name": "stdout",
          "text": [
            "82\n"
          ]
        }
      ]
    },
    {
      "cell_type": "markdown",
      "source": [
        "### **Boucler sur un nombre de coups à jouer: si le magic number est trouvé, Victoire, sinon au bout des N coups, Echec**"
      ],
      "metadata": {
        "id": "UqVeGNOp5q7h"
      }
    },
    {
      "cell_type": "code",
      "source": [
        "nombre_de_coups_max = 10\n",
        "nombre_de_coups_joués = 0\n",
        "ordinateur_gagnant = True\n",
        "\n",
        "while nombre_de_coups_joués < nombre_de_coups_max:\n",
        "  guessedNumber = int(input (\"Enter number :\"))\n",
        "\n",
        "  if numberToGuess == guessedNumber:\n",
        "    print(\"Victoire\")\n",
        "    ordinateur_gagnant = False\n",
        "    break\n",
        "  else:\n",
        "    print(\"weird\")\n",
        "\n",
        "  nombre_de_coups_joués += 1\n",
        "\n",
        "if ordinateur_gagnant:\n",
        "  print(\"Défaite\")"
      ],
      "metadata": {
        "id": "axehuk-M5pTx"
      },
      "execution_count": null,
      "outputs": []
    },
    {
      "cell_type": "markdown",
      "source": [
        "### **Créer la stratégie de l'ordinateur pour jouer contre vous**\n",
        "\n",
        "\n",
        "\n",
        "\n"
      ],
      "metadata": {
        "id": "847xrra-8wbT"
      }
    },
    {
      "cell_type": "code",
      "source": [
        "nombre_de_coups_max = 10\n",
        "nombre_de_coups_joués = 0\n",
        "ordinateur_gagnant = False\n",
        "humain_gagnant = False\n",
        "\n",
        "def get_computer_choice():\n",
        "  return random.randint(0,100)\n",
        "\n",
        "print(numberToGuess)\n",
        "\n",
        "while nombre_de_coups_joués < nombre_de_coups_max:\n",
        "  guessedNumberFromComputerPlayer = get_computer_choice()\n",
        "  if numberToGuess == guessedNumberFromComputerPlayer:\n",
        "    print(\"Victoire de l'ordinateur\")\n",
        "    ordinateur_gagnant = True\n",
        "    break\n",
        "\n",
        "  guessedNumberFromHumanPlayer = int(input (\"Enter number :\"))\n",
        "  if numberToGuess == guessedNumberFromHumanPlayer:\n",
        "    print(\"Victoire du joueur humain\")\n",
        "    humain_gagnant = True\n",
        "    break\n",
        "\n",
        "  nombre_de_coups_joués += 1\n",
        "\n",
        "if ordinateur_gagnant == False and humain_gagnant == False:\n",
        "  print(\"Défaite des deux joueurs\")"
      ],
      "metadata": {
        "colab": {
          "base_uri": "https://localhost:8080/"
        },
        "id": "zdd3I8DK8wyA",
        "outputId": "f9f09c6a-6dd0-4505-f48a-092871ef7e99"
      },
      "execution_count": null,
      "outputs": [
        {
          "output_type": "stream",
          "name": "stdout",
          "text": [
            "82\n",
            "Enter number :82\n",
            "Victoire du joueur humain\n"
          ]
        }
      ]
    },
    {
      "cell_type": "markdown",
      "source": [
        "### **Créer une stratégie plus évoluée de l'ordinateur pour jouer contre vous dans le cas où on vous indique trop haut ou trop bas**"
      ],
      "metadata": {
        "id": "MQrKJEYFB96D"
      }
    },
    {
      "cell_type": "code",
      "source": [
        "nombre_de_coups_max = 10\n",
        "nombre_de_coups_joués = 0\n",
        "ordinateur_gagnant = False\n",
        "humain_gagnant = False\n",
        "\n",
        "borne_min = 0\n",
        "borne_max = 100\n",
        "\n",
        "def get_computer_choice():\n",
        "  #print(\"Choix aléatoire entre %d et %d\" % (borne_min, borne_max))\n",
        "  return random.randint(borne_min, borne_max)\n",
        "\n",
        "print(numberToGuess)\n",
        "\n",
        "while nombre_de_coups_joués < nombre_de_coups_max:\n",
        "  nombre_de_coups_joués += 1\n",
        "  guessedNumberFromComputerPlayer = get_computer_choice()\n",
        "  if numberToGuess < guessedNumberFromComputerPlayer:\n",
        "    print(\"%d est trop haut\" % guessedNumberFromComputerPlayer)\n",
        "    borne_max = guessedNumberFromComputerPlayer - 1\n",
        "  elif numberToGuess > guessedNumberFromComputerPlayer:\n",
        "    print(\"%d est trop bas\" % guessedNumberFromComputerPlayer)\n",
        "    borne_min = guessedNumberFromComputerPlayer + 1\n",
        "  else:\n",
        "    print(\"Victoire de l'ordinateur en %d coups\" % (nombre_de_coups_joués))\n",
        "    ordinateur_gagnant = True\n",
        "    break\n",
        "\n",
        "  guessedNumberFromHumanPlayer = int(input (\"Enter number :\"))\n",
        "  if numberToGuess < guessedNumberFromHumanPlayer:\n",
        "    print(\"%d est trop haut\" % guessedNumberFromHumanPlayer)\n",
        "    borne_max = min(borne_max, guessedNumberFromHumanPlayer)\n",
        "  elif numberToGuess > guessedNumberFromHumanPlayer:\n",
        "    print(\"%d est trop bas\" % guessedNumberFromHumanPlayer)\n",
        "    borne_min = max(borne_min, guessedNumberFromHumanPlayer)\n",
        "  else:\n",
        "    print(\"Victoire du joueur humain en %d coups\" % (nombre_de_coups_joués))\n",
        "    humain_gagnant = True\n",
        "    break\n",
        "\n",
        "if ordinateur_gagnant == False and humain_gagnant == False:\n",
        "  print(\"Défaite des deux joueurs\")\n",
        "\n",
        "print(\"Le magic number est: %d\" % numberToGuess)"
      ],
      "metadata": {
        "id": "skHzCxGhB-OH"
      },
      "execution_count": null,
      "outputs": []
    },
    {
      "cell_type": "markdown",
      "source": [
        "### **Mutualiser les codes redondants et en faire des classes**"
      ],
      "metadata": {
        "id": "YaDoiph3KB43"
      }
    },
    {
      "cell_type": "code",
      "source": [
        "class StrategieDeJeu:\n",
        "  borne_min = 0\n",
        "  borne_max = 100\n",
        "\n",
        "  def get_computer_choice(self):\n",
        "    return\n",
        "    #print(\"Choix aléatoire entre %d et %d\" % (borne_min, borne_max))\n",
        "    return random.randint(self.borne_min, self.borne_max)\n",
        "\n",
        "class StrategieAleatoire(StrategieDeJeu):\n",
        "  def get_computer_choice(self):\n",
        "    return random.randint(self.borne_min, self.borne_max)\n",
        "\n",
        "class StrategieDichotomie(StrategieDeJeu):\n",
        "  def get_computer_choice(self):\n",
        "    print(\"%d %d %d\" % (self.borne_min, self.borne_max, int((self.borne_max - self.borne_min) / 2)+self.borne_min))\n",
        "    return int((self.borne_max - self.borne_min) / 2) + self.borne_min\n",
        "\n",
        "class StrategieHumaine(StrategieDeJeu):\n",
        "  def get_computer_choice(self):\n",
        "    return int(input (\"Enter number :\"))\n",
        "\n",
        "\n",
        "class Joueur:\n",
        "  nom= \"\"\n",
        "  gagnant = False\n",
        "  strategie_joueur = None\n",
        "\n",
        "  def __init__(self, strategie):\n",
        "    self.strategie_joueur = strategie\n",
        "\n",
        "  def choisir_un_nombre(self):\n",
        "    pass\n",
        "\n",
        "\n",
        "class Bot(Joueur):\n",
        "  def __init__(self, strategie):\n",
        "    super().__init__(strategie)\n",
        "    self.nom = \"Bot\"\n",
        "\n",
        "  def choisir_un_nombre(self):\n",
        "    return self.strategie_joueur.get_computer_choice()\n",
        "\n",
        "\n",
        "class Humain(Joueur):\n",
        "  def __init__(self, nom):\n",
        "    super().__init__(StrategieHumaine())\n",
        "    self.nom = \"Humain\"\n",
        "\n",
        "  def choisir_un_nombre(self):\n",
        "    return self.strategie_joueur.get_computer_choice()\n",
        "\n",
        "\n",
        "class Partie:\n",
        "  nombre_de_coups_max = 10\n",
        "  ordinateur_gagnant = False\n",
        "  humain_gagnant = False\n",
        "\n",
        "  def jouer(self):\n",
        "    #strategie_ordinateur = StrategieDeJeu()\n",
        "    nombre_de_coups_joués = 0\n",
        "\n",
        "    bot1 = Bot(StrategieAleatoire())\n",
        "    bot2 = Bot(StrategieDichotomie())\n",
        "\n",
        "    humain = Humain(\"Humain 1\")\n",
        "    joueurs = (bot1, bot2, humain)\n",
        "\n",
        "    while nombre_de_coups_joués < nombre_de_coups_max:\n",
        "      nombre_de_coups_joués += 1\n",
        "\n",
        "      for joueur in joueurs:\n",
        "        (joueur_gagnant, borne_min, borne_max) = self.fait_jouer_un_joueur(joueur, nombre_de_coups_joués)\n",
        "        if joueur_gagnant == True:\n",
        "          nombre_de_coups_joués = nombre_de_coups_max\n",
        "          break\n",
        "\n",
        "    if joueur_gagnant == False:\n",
        "      print(\"Défaite de tous les joueurs\")\n",
        "\n",
        "  def fait_jouer_un_joueur(self, joueur, nb_coups):\n",
        "    joueur_gagnant = False\n",
        "    guessedNumberFromComputerPlayer = joueur.choisir_un_nombre()\n",
        "    if numberToGuess < guessedNumberFromComputerPlayer:\n",
        "      print(\"%d est trop haut\" % guessedNumberFromComputerPlayer)\n",
        "      joueur.strategie_joueur.borne_max = guessedNumberFromComputerPlayer - 1\n",
        "    elif numberToGuess > guessedNumberFromComputerPlayer:\n",
        "      print(\"%d est trop bas\" % guessedNumberFromComputerPlayer)\n",
        "      joueur.strategie_joueur.borne_min = guessedNumberFromComputerPlayer + 1\n",
        "    else:\n",
        "      print(\"Victoire du joueur: %s en %d coups\" % (joueur.nom, nb_coups))\n",
        "      joueur_gagnant = True\n",
        "\n",
        "    return (joueur_gagnant, joueur.strategie_joueur.borne_min, joueur.strategie_joueur.borne_max)\n",
        "\n",
        "print(\"Le magic number est: %d\" % numberToGuess)\n",
        "partie = Partie()\n",
        "partie.jouer()"
      ],
      "metadata": {
        "id": "Z5Fc-gvoKO6D"
      },
      "execution_count": null,
      "outputs": []
    }
  ]
}