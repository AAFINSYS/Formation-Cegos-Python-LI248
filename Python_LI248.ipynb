{
 "cells": [
  {
   "cell_type": "markdown",
   "metadata": {
    "id": "OP-OJoFJ4tFo"
   },
   "source": [
    "# **2 - Maitriser la syntaxe de base**"
   ]
  },
  {
   "cell_type": "markdown",
   "metadata": {
    "id": "EvvdGpkGDj1S"
   },
   "source": [
    "## Identifiant"
   ]
  },
  {
   "cell_type": "code",
   "execution_count": null,
   "metadata": {
    "colab": {
     "base_uri": "https://localhost:8080/"
    },
    "id": "dVPpangg4Dny",
    "outputId": "f5fa0ad4-38cf-49e6-cbd4-3d5f6b20f2c5"
   },
   "outputs": [
    {
     "name": "stdout",
     "output_type": "stream",
     "text": [
      "5\n",
      "10\n",
      "6\n",
      "10\n"
     ]
    }
   ],
   "source": [
    "a = 5\n",
    "b = a * 2\n",
    "print(a)\n",
    "print(b)\n",
    "a = 6\n",
    "print(a)\n",
    "print(b)\n"
   ]
  },
  {
   "cell_type": "markdown",
   "metadata": {
    "id": "pGVBsREKjP7q"
   },
   "source": [
    "Tests et boucles: Expressions conditionelles"
   ]
  },
  {
   "cell_type": "code",
   "execution_count": null,
   "metadata": {
    "colab": {
     "base_uri": "https://localhost:8080/"
    },
    "id": "JXdnjk2vj7WJ",
    "outputId": "4c19f7a1-7704-4b2e-8e92-9f3e84fd8602"
   },
   "outputs": [
    {
     "name": "stdout",
     "output_type": "stream",
     "text": [
      "la DeLorean est prête\n"
     ]
    }
   ],
   "source": [
    "puissance_batterie = \"2.21 gigawatts\"\n",
    "\n",
    "if puissance_batterie == \"2.21 gigawatts\":\n",
    "  print(\"la DeLorean est prête\")\n",
    "else:\n",
    "  print(\"la DeLorean n'est peut être pas prête\")"
   ]
  },
  {
   "cell_type": "code",
   "execution_count": null,
   "metadata": {
    "colab": {
     "base_uri": "https://localhost:8080/"
    },
    "id": "qwMIb0mgi6Gj",
    "outputId": "725976df-43cd-49a5-9979-a56b3e8d8f3d"
   },
   "outputs": [
    {
     "name": "stdout",
     "output_type": "stream",
     "text": [
      "Toto est majeur\n"
     ]
    }
   ],
   "source": [
    "age_toto = 19\n",
    "\n",
    "if age_toto >= 18:\n",
    "  print(\"Toto est majeur\")"
   ]
  },
  {
   "cell_type": "code",
   "execution_count": null,
   "metadata": {
    "colab": {
     "base_uri": "https://localhost:8080/"
    },
    "id": "HjEvA-4kkraE",
    "outputId": "9780e13e-aa54-4c6a-a768-d219ae095088"
   },
   "outputs": [
    {
     "name": "stdout",
     "output_type": "stream",
     "text": [
      "Toto est majeur\n"
     ]
    }
   ],
   "source": [
    "age_toto = 19\n",
    "\n",
    "if age_toto >= 18:\n",
    "  print(\"Toto est majeur\")\n",
    "else:\n",
    "  print(\"Toto est mineur\")"
   ]
  },
  {
   "cell_type": "code",
   "execution_count": null,
   "metadata": {
    "colab": {
     "base_uri": "https://localhost:8080/"
    },
    "id": "X4D-GhMwk4wN",
    "outputId": "c7818ff9-6b76-4436-db5e-079ccbd3a893"
   },
   "outputs": [
    {
     "name": "stdout",
     "output_type": "stream",
     "text": [
      "Bac en poche, mention Bien\n"
     ]
    }
   ],
   "source": [
    "mpyenne_du_bac = 14\n",
    "\n",
    "if mpyenne_du_bac < 8:\n",
    "  print(\"Pas de bac, pas de rattrapage\")\n",
    "elif mpyenne_du_bac < 10:\n",
    "  print(\"Pas de bac, pas de rattrapage\")\n",
    "elif mpyenne_du_bac < 12:\n",
    "  print(\"Bac en poche, pas de mention\")\n",
    "elif mpyenne_du_bac < 14:\n",
    "  print(\"Bac en poche, mention Assez Bien\")\n",
    "elif mpyenne_du_bac < 16:\n",
    "  print(\"Bac en poche, mention Bien\")\n",
    "elif mpyenne_du_bac < 18:\n",
    "  print(\"Bac en poche, mention Très Bien\")\n",
    "else:\n",
    "  print(\"Bac en poche, mention Très Bien et Félicitations du jury\")"
   ]
  },
  {
   "cell_type": "markdown",
   "metadata": {
    "id": "HCwfjC6J7x-C"
   },
   "source": [
    "## Les expressions"
   ]
  },
  {
   "cell_type": "markdown",
   "metadata": {
    "id": "bep6bJ0671C-"
   },
   "source": [
    "### Les expressions mathématiques"
   ]
  },
  {
   "cell_type": "code",
   "execution_count": null,
   "metadata": {
    "colab": {
     "base_uri": "https://localhost:8080/"
    },
    "id": "3Nce8OA18QTR",
    "outputId": "a63af418-da48-4e7f-d3e0-46cb0376ddd2"
   },
   "outputs": [
    {
     "name": "stdout",
     "output_type": "stream",
     "text": [
      "31.41592653589793\n",
      "78.53981633974483\n"
     ]
    }
   ],
   "source": [
    "import math\n",
    "\n",
    "rayon_du_cercle = 5\n",
    "perimetre_du_cercle = 2 * math.pi * rayon_du_cercle\n",
    "aire_du_cercle = math.pi * rayon_du_cercle ** 2\n",
    "\n",
    "print(perimetre_du_cercle)\n",
    "print(aire_du_cercle)"
   ]
  },
  {
   "cell_type": "markdown",
   "metadata": {
    "id": "29SWcnQC759E"
   },
   "source": [
    "### Les expressions de concaténation de chaînes de caractères"
   ]
  },
  {
   "cell_type": "code",
   "execution_count": null,
   "metadata": {
    "colab": {
     "base_uri": "https://localhost:8080/"
    },
    "id": "yL7-jBmU9MNo",
    "outputId": "2c3c9f5c-e1d0-40f6-a21e-f52d21727cf5"
   },
   "outputs": [
    {
     "name": "stdout",
     "output_type": "stream",
     "text": [
      "le rayon du cercle est 5\n",
      "le rayon du cercle est 5\n",
      "le périmètre d'un cercle de rayon 5 est 31.42 et son aire est 78.540\n"
     ]
    }
   ],
   "source": [
    "rayon_du_cercle = 5\n",
    "\n",
    "print(\"le rayon du cercle est \" + str(rayon_du_cercle))\n",
    "print(\"le rayon du cercle est %d\" % rayon_du_cercle)\n",
    "\n",
    "perimetre_du_cercle = 2 * math.pi * rayon_du_cercle\n",
    "aire_du_cercle = math.pi * rayon_du_cercle ** 2\n",
    "\n",
    "print(\"le périmètre d'un cercle de rayon %d est %.2f et son aire est %.3f\" % (rayon_du_cercle, perimetre_du_cercle, aire_du_cercle))\n"
   ]
  },
  {
   "cell_type": "markdown",
   "metadata": {
    "id": "OK-iKm-M_CP_"
   },
   "source": [
    "### Les expressions logiques"
   ]
  },
  {
   "cell_type": "code",
   "execution_count": null,
   "metadata": {
    "colab": {
     "base_uri": "https://localhost:8080/"
    },
    "id": "1i6sRrXh_A-_",
    "outputId": "79def544-16b6-4105-de54-064dc31ad645"
   },
   "outputs": [
    {
     "name": "stdout",
     "output_type": "stream",
     "text": [
      "False\n",
      "Les deux nombres ne sont pas pairs\n",
      "True\n",
      "au moins un des nombres est pair\n"
     ]
    }
   ],
   "source": [
    "nombre1 = 50\n",
    "nombre2 = 31\n",
    "\n",
    "les_deux_sont_pairs = (nombre1 % 2 == 0) and (nombre2 % 2 == 0)\n",
    "au_moins_un_des_nombres_est_pair = (nombre1 % 2 == 0) or (nombre2 % 2 == 0)\n",
    "\n",
    "print(les_deux_sont_pairs)\n",
    "print(\"Les deux nombres sont pairs\" if les_deux_sont_pairs else \"Les deux nombres ne sont pas pairs\")\n",
    "\n",
    "print(au_moins_un_des_nombres_est_pair)\n",
    "print(\"au moins un des nombres est pair\" if au_moins_un_des_nombres_est_pair else \"aucun n'est pair\")"
   ]
  },
  {
   "cell_type": "markdown",
   "metadata": {
    "id": "-IEZntmTA3fE"
   },
   "source": [
    "\n",
    "### Les expressions d'indexation\n"
   ]
  },
  {
   "cell_type": "code",
   "execution_count": null,
   "metadata": {
    "colab": {
     "base_uri": "https://localhost:8080/"
    },
    "id": "pO3GWo5hBBhC",
    "outputId": "97cdddea-f21b-4432-92cb-4a82bffe9ddb"
   },
   "outputs": [
    {
     "name": "stdout",
     "output_type": "stream",
     "text": [
      "6\n"
     ]
    }
   ],
   "source": [
    "ma_liste = [0, 2, 4, 6, 8, 10]\n",
    "print(ma_liste[3])"
   ]
  },
  {
   "cell_type": "markdown",
   "metadata": {
    "id": "sfIEbyAEqYyT"
   },
   "source": [
    "## Tests et boucles: divers exemples de boucle\n",
    "\n",
    "1.   Élément de liste\n",
    "2.   Élément de liste\n",
    "\n"
   ]
  },
  {
   "cell_type": "code",
   "execution_count": null,
   "metadata": {
    "colab": {
     "base_uri": "https://localhost:8080/"
    },
    "id": "CNoAobPzqgI3",
    "outputId": "2bbeff63-5087-469b-d032-10ac0c96718d"
   },
   "outputs": [
    {
     "name": "stdout",
     "output_type": "stream",
     "text": [
      "1\n",
      "2\n",
      "3\n",
      "4\n",
      "5\n",
      "6\n",
      "7\n",
      "8\n",
      "9\n",
      "boucle terminée\n"
     ]
    }
   ],
   "source": [
    "compteur = 1\n",
    "\n",
    "while compteur < 10:\n",
    "  print(compteur)\n",
    "  compteur += 1\n",
    "\n",
    "print(\"boucle terminée\")"
   ]
  },
  {
   "cell_type": "code",
   "execution_count": null,
   "metadata": {
    "colab": {
     "base_uri": "https://localhost:8080/"
    },
    "id": "IIoT3e95q3Bk",
    "outputId": "b55d44ef-fde2-46c9-84e2-99be2ae5c228"
   },
   "outputs": [
    {
     "name": "stdout",
     "output_type": "stream",
     "text": [
      "3\n",
      "5\n",
      "7\n",
      "9\n",
      "boucle terminée\n"
     ]
    }
   ],
   "source": [
    "compteur = 1\n",
    "\n",
    "while compteur < 10:\n",
    "  compteur += 1\n",
    "  if compteur % 2 == 0:\n",
    "    continue\n",
    "  print(compteur)\n",
    "\n",
    "print(\"boucle terminée\")"
   ]
  },
  {
   "cell_type": "code",
   "execution_count": null,
   "metadata": {
    "colab": {
     "base_uri": "https://localhost:8080/"
    },
    "id": "77kt-EFzrbMx",
    "outputId": "d7cbc016-685b-4a87-ad8a-c98148687f8b"
   },
   "outputs": [
    {
     "name": "stdout",
     "output_type": "stream",
     "text": [
      "1\n",
      "boucle terminée\n"
     ]
    }
   ],
   "source": [
    "compteur = 1\n",
    "\n",
    "while compteur < 10:\n",
    "  print(compteur)\n",
    "  compteur += 1\n",
    "  if compteur % 2 == 0:\n",
    "    break\n",
    "\n",
    "\n",
    "print(\"boucle terminée\")"
   ]
  },
  {
   "cell_type": "code",
   "execution_count": null,
   "metadata": {
    "colab": {
     "base_uri": "https://localhost:8080/"
    },
    "id": "vzFXzFyvrmxN",
    "outputId": "ddd6dece-88f3-4773-ee61-cdcf85404a55"
   },
   "outputs": [
    {
     "name": "stdout",
     "output_type": "stream",
     "text": [
      "2\n",
      "4\n",
      "6\n",
      "8\n",
      "10\n"
     ]
    }
   ],
   "source": [
    "liste_d_entier = [2,4,6,8,10]\n",
    "\n",
    "for entier in liste_d_entier:\n",
    "  print(entier)"
   ]
  },
  {
   "cell_type": "code",
   "execution_count": null,
   "metadata": {
    "colab": {
     "base_uri": "https://localhost:8080/"
    },
    "id": "Tlz1NrwWr6j2",
    "outputId": "216a86b9-0e29-41ee-9983-15414624489b"
   },
   "outputs": [
    {
     "name": "stdout",
     "output_type": "stream",
     "text": [
      "1\n",
      "2\n",
      "3\n",
      "4\n",
      "5\n"
     ]
    }
   ],
   "source": [
    "for entier in range(1, 6):\n",
    "  print(entier)"
   ]
  },
  {
   "cell_type": "markdown",
   "metadata": {
    "id": "ND5kOA25G3Vx"
   },
   "source": [
    "### Expression avancée: opérateur ternaire"
   ]
  },
  {
   "cell_type": "code",
   "execution_count": null,
   "metadata": {
    "colab": {
     "base_uri": "https://localhost:8080/"
    },
    "id": "pOznvCN_HGJv",
    "outputId": "6c35a240-daf2-4fcd-8a94-cb51e0b2024b"
   },
   "outputs": [
    {
     "name": "stdout",
     "output_type": "stream",
     "text": [
      "Résultat si vraie\n"
     ]
    }
   ],
   "source": [
    "print(\"Résultat si vraie\" if True else \"Résultat si faux\")"
   ]
  },
  {
   "cell_type": "markdown",
   "metadata": {
    "id": "inO4oLXKIP6n"
   },
   "source": [
    "### Expression avancée: list comprehension"
   ]
  },
  {
   "cell_type": "code",
   "execution_count": null,
   "metadata": {
    "colab": {
     "base_uri": "https://localhost:8080/"
    },
    "id": "9iNG895lIVV8",
    "outputId": "8b824d71-31be-431a-b0b3-6cd11fea4718"
   },
   "outputs": [
    {
     "name": "stdout",
     "output_type": "stream",
     "text": [
      "[0, 1, 2, 3, 4]\n",
      "[0, 2, 4, 6, 8]\n"
     ]
    }
   ],
   "source": [
    "valeur_iterable = range(5)\n",
    "print(list(valeur_iterable))\n",
    "\n",
    "exemple_list_comprehension = [ nombre * 2 for nombre in valeur_iterable]\n",
    "print(exemple_list_comprehension)"
   ]
  },
  {
   "cell_type": "markdown",
   "metadata": {
    "id": "yMUTgV_HK8RU"
   },
   "source": [
    "### **Expression avancée: tuple unpacking**"
   ]
  },
  {
   "cell_type": "code",
   "execution_count": null,
   "metadata": {
    "colab": {
     "base_uri": "https://localhost:8080/"
    },
    "id": "glxxLDKTHduP",
    "outputId": "24ed6f40-0a9d-4d0d-f461-cc82445a64bc"
   },
   "outputs": [
    {
     "name": "stdout",
     "output_type": "stream",
     "text": [
      "(10, 15, 'resultat')\n",
      "10\n",
      "resultat\n",
      "10\n",
      "15\n",
      "20\n"
     ]
    }
   ],
   "source": [
    "def ma_fonction():\n",
    "  return 10,15,\"resultat\"\n",
    "\n",
    "res = ma_fonction()\n",
    "print(res)\n",
    "\n",
    "a, _, _ = res\n",
    "\n",
    "print(a)\n",
    "print(_)\n",
    "\n",
    "a, b, c = (10, 15 ,20)\n",
    "print(a)\n",
    "print(b)\n",
    "print(c)\n"
   ]
  },
  {
   "cell_type": "markdown",
   "metadata": {
    "id": "ZjdGhHgqEZ5h"
   },
   "source": [
    "### TRAVAUX PRATIQUES: FIZZ BUZZ"
   ]
  },
  {
   "cell_type": "code",
   "execution_count": null,
   "metadata": {
    "colab": {
     "base_uri": "https://localhost:8080/"
    },
    "id": "1mYj8J0PEgTk",
    "outputId": "b8b347cf-d8e6-4f42-959f-8bfccc7365a7"
   },
   "outputs": [
    {
     "name": "stdout",
     "output_type": "stream",
     "text": [
      "\n"
     ]
    }
   ],
   "source": [
    "# Afficher la chaîne de caractère Fizz\n",
    "print(\"\")"
   ]
  },
  {
   "cell_type": "code",
   "execution_count": null,
   "metadata": {
    "id": "dbOGdAouEoU_"
   },
   "outputs": [],
   "source": [
    "# Afficher la chaîne de caractère Buzz"
   ]
  },
  {
   "cell_type": "code",
   "execution_count": null,
   "metadata": {
    "id": "4Lop_pQ4Ex01"
   },
   "outputs": [],
   "source": [
    "# Afficher la chaine de caractère correspondant au nombre ci-dessous\n",
    "nombre = 5"
   ]
  },
  {
   "cell_type": "code",
   "execution_count": null,
   "metadata": {
    "colab": {
     "base_uri": "https://localhost:8080/"
    },
    "id": "QAWPmhumE5wU",
    "outputId": "e808ab43-230a-4417-9322-2449397e22f1"
   },
   "outputs": [
    {
     "name": "stdout",
     "output_type": "stream",
     "text": [
      "nombre pair\n"
     ]
    }
   ],
   "source": [
    "# Tester si un nombre est un multiple de 3\n",
    "nombre = 2\n",
    "\n",
    "if True:\n",
    "  print(\"nombre pair\")\n",
    "else:\n",
    "  print(\"nombre impair\")"
   ]
  },
  {
   "cell_type": "code",
   "execution_count": null,
   "metadata": {
    "colab": {
     "base_uri": "https://localhost:8080/"
    },
    "id": "fQmsOBjTFMDQ",
    "outputId": "5dd30fd4-d4e1-465d-e47f-6315f9eadc23"
   },
   "outputs": [
    {
     "name": "stdout",
     "output_type": "stream",
     "text": [
      "0\n",
      "1\n",
      "2\n",
      "3\n",
      "4\n",
      "5\n",
      "6\n",
      "7\n",
      "8\n",
      "9\n",
      "10\n",
      "11\n"
     ]
    }
   ],
   "source": [
    "# Parcourir une boucle jusqu'à 100\n",
    "for nbre in range(12):\n",
    "  print(nbre)"
   ]
  },
  {
   "cell_type": "code",
   "execution_count": null,
   "metadata": {
    "id": "B4x-6KZTFZWd"
   },
   "outputs": [],
   "source": [
    "# Combiner les expressions ci-dessous pour créer l'algorithme FizzBuzz"
   ]
  },
  {
   "cell_type": "markdown",
   "metadata": {
    "id": "fhm594sJ46Yv"
   },
   "source": [
    "# **3 - Comment structurer son code**"
   ]
  },
  {
   "cell_type": "markdown",
   "metadata": {
    "id": "NgH7bJoa-FZi"
   },
   "source": [
    "### Les fonctions spécifiques: StdLib - Fonctions **natives**"
   ]
  },
  {
   "cell_type": "code",
   "execution_count": null,
   "metadata": {
    "id": "sgY_Ud3T-OH7"
   },
   "outputs": [],
   "source": []
  },
  {
   "cell_type": "markdown",
   "metadata": {
    "id": "0f8ZSokuM3m5"
   },
   "source": [
    "### Exemple d'algorithmes FizzBuzz"
   ]
  },
  {
   "cell_type": "code",
   "execution_count": null,
   "metadata": {
    "colab": {
     "base_uri": "https://localhost:8080/"
    },
    "id": "FR51WAPhQcTK",
    "outputId": "ec0d4089-4716-450f-c463-4c64e203d649"
   },
   "outputs": [
    {
     "name": "stdout",
     "output_type": "stream",
     "text": [
      "pour le nombre 1, le résultat est: 1\n",
      "pour le nombre 2, le résultat est: 2\n",
      "pour le nombre 3, le résultat est: Fizz\n",
      "pour le nombre 4, le résultat est: 4\n",
      "pour le nombre 5, le résultat est: Buzz\n",
      "pour le nombre 6, le résultat est: Fizz\n",
      "pour le nombre 7, le résultat est: 7\n",
      "pour le nombre 8, le résultat est: 8\n",
      "pour le nombre 9, le résultat est: Fizz\n",
      "pour le nombre 10, le résultat est: Buzz\n",
      "pour le nombre 11, le résultat est: 11\n",
      "pour le nombre 12, le résultat est: Fizz\n",
      "pour le nombre 13, le résultat est: 13\n",
      "pour le nombre 14, le résultat est: 14\n",
      "pour le nombre 15, le résultat est: FizzBuzz\n"
     ]
    }
   ],
   "source": [
    "for nombre in range(1, 16):\n",
    "  resultat = \"\"\n",
    "  if nombre % 3 == 0 and nombre % 5 == 0:\n",
    "    print(\"pour le nombre %d, le résultat est: FizzBuzz\" % nombre)\n",
    "  elif nombre % 3 == 0:\n",
    "    print(\"pour le nombre %d, le résultat est: Fizz\" % nombre)\n",
    "  elif nombre % 5 == 0:\n",
    "    print(\"pour le nombre %d, le résultat est: Buzz\" % nombre)\n",
    "  else:\n",
    "    print(\"pour le nombre %d, le résultat est: %s\"  % (nombre, str(nombre)))"
   ]
  },
  {
   "cell_type": "code",
   "execution_count": null,
   "metadata": {
    "colab": {
     "base_uri": "https://localhost:8080/"
    },
    "id": "wTQ75JiQM8zb",
    "outputId": "e5f5063f-e94f-4ecc-d836-809e25fd50ad"
   },
   "outputs": [
    {
     "name": "stdout",
     "output_type": "stream",
     "text": [
      "pour le nombre 1, le résultat est: 1\n",
      "pour le nombre 2, le résultat est: 2\n",
      "pour le nombre 3, le résultat est: Fizz\n",
      "pour le nombre 4, le résultat est: 4\n",
      "pour le nombre 5, le résultat est: Buzz\n",
      "pour le nombre 6, le résultat est: Fizz\n",
      "pour le nombre 7, le résultat est: 7\n",
      "pour le nombre 8, le résultat est: 8\n",
      "pour le nombre 9, le résultat est: Fizz\n",
      "pour le nombre 10, le résultat est: Buzz\n",
      "pour le nombre 11, le résultat est: 11\n",
      "pour le nombre 12, le résultat est: Fizz\n",
      "pour le nombre 13, le résultat est: 13\n",
      "pour le nombre 14, le résultat est: 14\n",
      "pour le nombre 15, le résultat est: FizzBuzz\n"
     ]
    }
   ],
   "source": [
    "dict_valeur_special = {\n",
    "    3: \"Fizz\",\n",
    "    5: \"Buzz\"\n",
    "}\n",
    "\n",
    "def traitement_special(nombre, valeur_speciale):\n",
    "  if nombre % valeur_speciale == 0:\n",
    "    return dict_valeur_special[valeur_speciale]\n",
    "  return \"\"\n",
    "\n",
    "def traitement_des_valeurs_speciales(nombre):\n",
    "  resultat = \"\"\n",
    "  for valeur_speciale in dict_valeur_special.keys():\n",
    "      resultat += traitement_special(nombre, valeur_speciale)\n",
    "  return resultat\n",
    "\n",
    "def FizzBuzz(borne_max):\n",
    "  for nombre in range(1, borne_max):\n",
    "    resultat = traitement_des_valeurs_speciales(nombre)\n",
    "    print(\"pour le nombre %d, le résultat est: %s\" % (nombre, resultat if len(resultat) != 0 else str(nombre)))\n",
    "\n",
    "FizzBuzz(16)\n"
   ]
  },
  {
   "cell_type": "markdown",
   "metadata": {
    "id": "4KsRZcaCJpfZ"
   },
   "source": [
    "### TRAVAUX PRATIQUES"
   ]
  },
  {
   "cell_type": "markdown",
   "metadata": {
    "id": "0AjvUD4h3VPs"
   },
   "source": [
    "## Calcul de factorielle"
   ]
  },
  {
   "cell_type": "code",
   "execution_count": null,
   "metadata": {
    "id": "HmWjcWsC3DzA"
   },
   "outputs": [],
   "source": [
    "def factorielle(n):\n",
    "  if n == 1:\n",
    "    return 1\n",
    "  return factorielle(n-1) * n"
   ]
  },
  {
   "cell_type": "code",
   "execution_count": null,
   "metadata": {
    "colab": {
     "base_uri": "https://localhost:8080/"
    },
    "id": "xbd8BcgF3UNA",
    "outputId": "0e2c604c-2655-4bf5-b56c-6b709860bc5e"
   },
   "outputs": [
    {
     "name": "stdout",
     "output_type": "stream",
     "text": [
      "120\n"
     ]
    }
   ],
   "source": [
    "print(factorielle(5))"
   ]
  },
  {
   "cell_type": "markdown",
   "metadata": {
    "id": "M4Ry4RKHJy_v"
   },
   "source": [
    "### Recherche d'une valeur dans un tableau non trié"
   ]
  },
  {
   "cell_type": "code",
   "execution_count": null,
   "metadata": {
    "id": "vYcBpAB-J57r"
   },
   "outputs": [],
   "source": []
  },
  {
   "cell_type": "markdown",
   "metadata": {
    "id": "oqT7OLEtJ6Sm"
   },
   "source": [
    "### Recherche d'une valeur dans un tableau trié"
   ]
  },
  {
   "cell_type": "code",
   "execution_count": null,
   "metadata": {
    "id": "VpB89wk5KAw1"
   },
   "outputs": [],
   "source": []
  },
  {
   "cell_type": "markdown",
   "metadata": {
    "id": "fBNHhNviKDAt"
   },
   "source": [
    "### Calcul des premiers termes de la suite de Fibonacci"
   ]
  },
  {
   "cell_type": "code",
   "execution_count": null,
   "metadata": {
    "id": "EEsaEknbKIRv"
   },
   "outputs": [],
   "source": []
  },
  {
   "cell_type": "markdown",
   "metadata": {
    "id": "VpJ03zfUKJEY"
   },
   "source": [
    "### Tri bulle d'une liste de nombres entiers"
   ]
  },
  {
   "cell_type": "code",
   "execution_count": null,
   "metadata": {
    "id": "LFEW9vz4KLNQ"
   },
   "outputs": [],
   "source": []
  },
  {
   "cell_type": "markdown",
   "metadata": {
    "id": "ZtVWTKYKsYL2"
   },
   "source": [
    "# **4 - Les Algorithmes de base**"
   ]
  },
  {
   "cell_type": "markdown",
   "metadata": {
    "id": "Y3Xh4f5RsjeE"
   },
   "source": [
    "### Les boucles prévisibles et imprévisibles"
   ]
  },
  {
   "cell_type": "markdown",
   "metadata": {
    "id": "1BCe8Lf9sq8Q"
   },
   "source": [
    "### Boucle prévisible"
   ]
  },
  {
   "cell_type": "code",
   "execution_count": null,
   "metadata": {
    "colab": {
     "base_uri": "https://localhost:8080/"
    },
    "id": "Xv45F0qos0dB",
    "outputId": "4400b663-bc08-410f-cd5d-4a19b996ff4c"
   },
   "outputs": [
    {
     "name": "stdout",
     "output_type": "stream",
     "text": [
      "La somme des entiers de 1 à 10 vaut 55\n"
     ]
    }
   ],
   "source": [
    "# Calcul de la somme des entiers de 1 à 10\n",
    "somme_entier_de_1_a_10 = 0\n",
    "for entier in range(1,11):\n",
    "  somme_entier_de_1_a_10 += entier\n",
    "\n",
    "print(\"La somme des entiers de 1 à 10 vaut %d\" % somme_entier_de_1_a_10)"
   ]
  },
  {
   "cell_type": "markdown",
   "metadata": {
    "id": "c75vHQRbswg_"
   },
   "source": [
    "### Boucle imprévisible"
   ]
  },
  {
   "cell_type": "code",
   "execution_count": null,
   "metadata": {
    "colab": {
     "base_uri": "https://localhost:8080/"
    },
    "id": "e_ASvV64tr8b",
    "outputId": "e906fae5-25b8-453a-ee3e-e007a3d6e3a5"
   },
   "outputs": [
    {
     "name": "stdout",
     "output_type": "stream",
     "text": [
      "True\n",
      "JanJanvierviez\n",
      "Valeur Janvier trouvée dans la chaîne JanJanvierviez\n"
     ]
    }
   ],
   "source": [
    "liste_de_valeurs = [\"Jamvier\", \"Javier\", \"Jajier\", \"JanJanvievier\", \"JanJanvierviez\", \"Jannier\", \"JAnvier\", \"JANvier\", \"Janvier\"]\n",
    "trouvée = False\n",
    "motif_a_rechercher = \"Janvier\"\n",
    "valeur_trouvée = \"\"\n",
    "\n",
    "for valeur in liste_de_valeurs:\n",
    "  if motif_a_rechercher in valeur:\n",
    "    trouvée = True\n",
    "    valeur_trouvée = valeur\n",
    "    break\n",
    "\n",
    "print((\"Valeur: %s non trouvée\" % motif_a_rechercher) if not trouvée else (\"Valeur %s trouvée dans la chaîne %s\" % (motif_a_rechercher, valeur_trouvée)))\n"
   ]
  },
  {
   "cell_type": "markdown",
   "metadata": {
    "id": "NVr2vQVY5HS1"
   },
   "source": [
    "# **5 - La structuration des données**"
   ]
  },
  {
   "cell_type": "markdown",
   "metadata": {
    "id": "xZDL9_YMkp_T"
   },
   "source": [
    "## Les tuples"
   ]
  },
  {
   "cell_type": "code",
   "execution_count": null,
   "metadata": {
    "colab": {
     "base_uri": "https://localhost:8080/"
    },
    "id": "HDBmu6KVktfw",
    "outputId": "d4968674-d444-4de1-c9ba-5d7dc278d4f5"
   },
   "outputs": [
    {
     "name": "stdout",
     "output_type": "stream",
     "text": [
      "2\n"
     ]
    }
   ],
   "source": [
    "mon_tuple = (2,3,5)\n",
    "\n",
    "print(mon_tuple[0])"
   ]
  },
  {
   "cell_type": "code",
   "execution_count": null,
   "metadata": {
    "id": "sx2XG0IFk9xl"
   },
   "outputs": [],
   "source": [
    "mon_tuple[2] = 8"
   ]
  },
  {
   "cell_type": "markdown",
   "metadata": {
    "id": "nLCZRW4c58Jb"
   },
   "source": [
    "### Les listes"
   ]
  },
  {
   "cell_type": "code",
   "execution_count": null,
   "metadata": {
    "id": "gCeQRd17k_u1"
   },
   "outputs": [],
   "source": []
  },
  {
   "cell_type": "markdown",
   "metadata": {
    "id": "SsQROtm85_xk"
   },
   "source": [
    "### Les dictionnaires"
   ]
  },
  {
   "cell_type": "markdown",
   "metadata": {},
   "source": [
    "#### Création de dictionnaires"
   ]
  },
  {
   "cell_type": "code",
   "execution_count": 5,
   "metadata": {
    "id": "cM2FCtxX6FWl"
   },
   "outputs": [],
   "source": [
    "chiffre_valeur_mapping_1 = dict(un=1, deux=2, trois=3)\n",
    "chiffre_valeur_mapping_2 = {'un': 1, 'deux': 2, 'trois': 3}\n",
    "chiffre_valeur_mapping_3 = dict(zip(['un', 'deux', 'trois'], [1, 2, 3]))\n",
    "chiffre_valeur_mapping_4 = dict([('deux', 2), ('un', 1), ('trois', 3)])\n",
    "chiffre_valeur_mapping_5 = dict({'trois': 3, 'un': 1, 'deux': 2})\n"
   ]
  },
  {
   "cell_type": "code",
   "execution_count": 8,
   "metadata": {},
   "outputs": [
    {
     "name": "stdout",
     "output_type": "stream",
     "text": [
      "Landes\n",
      "Landes\n"
     ]
    }
   ],
   "source": [
    "numéro_nom_département_list = [(14, 'Calvados'), (15, 'Cantal'), (40, 'Landes'), (60, 'Oise'), (85, 'Vendée')]\n",
    "\n",
    "numéro_nom_département_mapping = { clé:valeur for (clé, valeur) in numéro_nom_département_list}\n",
    "\n",
    "print(numéro_nom_département_list[2][1])\n",
    "print(numéro_nom_département_mapping[40])"
   ]
  },
  {
   "cell_type": "markdown",
   "metadata": {},
   "source": [
    "#### Interrogration d'un dictionnaire"
   ]
  },
  {
   "cell_type": "code",
   "execution_count": 10,
   "metadata": {},
   "outputs": [
    {
     "name": "stdout",
     "output_type": "stream",
     "text": [
      "la capitale de France est Paris\n"
     ]
    }
   ],
   "source": [
    "capitale_pays_mapping = dict([('France', 'Paris'), ('Etats Unis', 'Washington'), ('Italie', 'Rome'), ('Liban', 'Beyrouth')])\n",
    "\n",
    "pays = 'France'\n",
    "print('la capitale de %s est %s' % (pays, capitale_pays_mapping[pays]))"
   ]
  },
  {
   "cell_type": "code",
   "execution_count": 11,
   "metadata": {},
   "outputs": [
    {
     "name": "stdout",
     "output_type": "stream",
     "text": [
      "France\n",
      "Etats Unis\n",
      "Italie\n",
      "Liban\n"
     ]
    }
   ],
   "source": [
    "for pays in capitale_pays_mapping.keys():\n",
    "    print(pays)"
   ]
  },
  {
   "cell_type": "code",
   "execution_count": 12,
   "metadata": {},
   "outputs": [
    {
     "name": "stdout",
     "output_type": "stream",
     "text": [
      "Paris\n",
      "Washington\n",
      "Rome\n",
      "Beyrouth\n"
     ]
    }
   ],
   "source": [
    "for capitale in capitale_pays_mapping.values():\n",
    "    print(capitale)"
   ]
  },
  {
   "cell_type": "code",
   "execution_count": 13,
   "metadata": {},
   "outputs": [
    {
     "name": "stdout",
     "output_type": "stream",
     "text": [
      "la capitale de France est Paris\n",
      "la capitale de Etats Unis est Washington\n",
      "la capitale de Italie est Rome\n",
      "la capitale de Liban est Beyrouth\n"
     ]
    }
   ],
   "source": [
    "for pays in capitale_pays_mapping.keys():\n",
    "    print('la capitale de %s est %s' % (pays, capitale_pays_mapping[pays]))"
   ]
  },
  {
   "cell_type": "code",
   "execution_count": 14,
   "metadata": {},
   "outputs": [
    {
     "ename": "KeyError",
     "evalue": "'Sri Lanka'",
     "output_type": "error",
     "traceback": [
      "\u001b[1;31m---------------------------------------------------------------------------\u001b[0m",
      "\u001b[1;31mKeyError\u001b[0m                                  Traceback (most recent call last)",
      "\u001b[1;32m<ipython-input-14-585d8ca05d70>\u001b[0m in \u001b[0;36m<module>\u001b[1;34m\u001b[0m\n\u001b[0;32m      1\u001b[0m \u001b[0mpays_manquant\u001b[0m\u001b[1;33m=\u001b[0m\u001b[1;34m'Sri Lanka'\u001b[0m\u001b[1;33m\u001b[0m\u001b[1;33m\u001b[0m\u001b[0m\n\u001b[1;32m----> 2\u001b[1;33m \u001b[0mprint\u001b[0m\u001b[1;33m(\u001b[0m\u001b[1;34m\"La capitale du %s est %s\"\u001b[0m \u001b[1;33m%\u001b[0m \u001b[1;33m(\u001b[0m\u001b[0mpays_manquant\u001b[0m\u001b[1;33m,\u001b[0m \u001b[0mcapitale_pays_mapping\u001b[0m\u001b[1;33m[\u001b[0m\u001b[0mpays_manquant\u001b[0m\u001b[1;33m]\u001b[0m\u001b[1;33m)\u001b[0m\u001b[1;33m)\u001b[0m\u001b[1;33m\u001b[0m\u001b[1;33m\u001b[0m\u001b[0m\n\u001b[0m",
      "\u001b[1;31mKeyError\u001b[0m: 'Sri Lanka'"
     ]
    }
   ],
   "source": [
    "pays_manquant='Sri Lanka'\n",
    "print(\"La capitale du %s est %s\" % (pays_manquant, capitale_pays_mapping[pays_manquant]))"
   ]
  },
  {
   "cell_type": "code",
   "execution_count": 15,
   "metadata": {},
   "outputs": [
    {
     "data": {
      "text/plain": [
       "'Pays non trouvé'"
      ]
     },
     "execution_count": 15,
     "metadata": {},
     "output_type": "execute_result"
    }
   ],
   "source": [
    "capitale_pays_mapping.get(pays_manquant, 'Pays non trouvé')"
   ]
  },
  {
   "cell_type": "markdown",
   "metadata": {
    "id": "6XGHhJfE6F58"
   },
   "source": [
    "### Les sets"
   ]
  },
  {
   "cell_type": "code",
   "execution_count": null,
   "metadata": {
    "id": "Q_0eeDRK6Iey"
   },
   "outputs": [],
   "source": []
  },
  {
   "cell_type": "markdown",
   "metadata": {
    "id": "FwHlLygK5NPD"
   },
   "source": [
    "# 6 - Les calculs"
   ]
  },
  {
   "cell_type": "markdown",
   "metadata": {
    "id": "60-yskRF6i2I"
   },
   "source": [
    "### Module datetime"
   ]
  },
  {
   "cell_type": "code",
   "execution_count": null,
   "metadata": {
    "colab": {
     "base_uri": "https://localhost:8080/"
    },
    "id": "wCjgh8s76mjZ",
    "outputId": "36868b30-6279-4a68-a89f-08a20fcda112"
   },
   "outputs": [
    {
     "name": "stdout",
     "output_type": "stream",
     "text": [
      "2023-06-17 18:20:31.560305\n"
     ]
    }
   ],
   "source": [
    "from datetime import datetime\n",
    "\n",
    "now = datetime.now()\n",
    "print(now)\n"
   ]
  },
  {
   "cell_type": "code",
   "execution_count": null,
   "metadata": {
    "colab": {
     "base_uri": "https://localhost:8080/"
    },
    "id": "9JSyXTu8lnjO",
    "outputId": "a7626df2-a14a-4b7e-8178-57645d3f9ff3"
   },
   "outputs": [
    {
     "name": "stdout",
     "output_type": "stream",
     "text": [
      "2023-05-15\n"
     ]
    }
   ],
   "source": [
    "from datetime import date\n",
    "\n",
    "my_date = date(2023, 5, 15)\n",
    "print(my_date)"
   ]
  },
  {
   "cell_type": "code",
   "execution_count": null,
   "metadata": {
    "colab": {
     "base_uri": "https://localhost:8080/"
    },
    "id": "824Lw9bWluIc",
    "outputId": "f4a3c135-8e1c-4006-ebac-a4a916420a02"
   },
   "outputs": [
    {
     "name": "stdout",
     "output_type": "stream",
     "text": [
      "09:30:00\n"
     ]
    }
   ],
   "source": [
    "from datetime import time\n",
    "\n",
    "my_time = time(9, 30)\n",
    "print(my_time)\n"
   ]
  },
  {
   "cell_type": "code",
   "execution_count": null,
   "metadata": {
    "colab": {
     "base_uri": "https://localhost:8080/"
    },
    "id": "j8EE_ptgl4f4",
    "outputId": "82db98c7-213b-4bfb-ef16-5d3392eafcf0"
   },
   "outputs": [
    {
     "name": "stdout",
     "output_type": "stream",
     "text": [
      "2022-10-31 00:00:00\n",
      "2022-11-07 03:00:00\n"
     ]
    }
   ],
   "source": [
    "from datetime import datetime, timedelta\n",
    "\n",
    "str_date = \"2022-10-31\"\n",
    "my_date = datetime.strptime(str_date, \"%Y-%m-%d\")\n",
    "print(my_date)\n",
    "\n",
    "duration = timedelta(days=7, hours=3)\n",
    "new_date = my_date + duration\n",
    "print(new_date)\n"
   ]
  },
  {
   "cell_type": "markdown",
   "metadata": {
    "id": "nlm6mWhsmBGW"
   },
   "source": [
    "### Module time"
   ]
  },
  {
   "cell_type": "code",
   "execution_count": null,
   "metadata": {
    "colab": {
     "base_uri": "https://localhost:8080/"
    },
    "id": "8mSu03GLmHGR",
    "outputId": "e2f145d6-c2fc-4573-c795-33bb09b32465"
   },
   "outputs": [
    {
     "name": "stdout",
     "output_type": "stream",
     "text": [
      "1687026367.2293346\n"
     ]
    }
   ],
   "source": [
    "import time\n",
    "\n",
    "current_time = time.time()\n",
    "print(current_time)"
   ]
  },
  {
   "cell_type": "code",
   "execution_count": null,
   "metadata": {
    "colab": {
     "base_uri": "https://localhost:8080/"
    },
    "id": "nntGzk-Lm4aO",
    "outputId": "d00915a9-fe3b-4388-e6a7-6c2585aa517a"
   },
   "outputs": [
    {
     "name": "stdout",
     "output_type": "stream",
     "text": [
      "Sat Jun 17 18:26:31 2023\n"
     ]
    }
   ],
   "source": [
    "import time\n",
    "\n",
    "current_time = time.time()\n",
    "readable_time = time.ctime(current_time)\n",
    "print(readable_time)\n"
   ]
  },
  {
   "cell_type": "code",
   "execution_count": null,
   "metadata": {
    "colab": {
     "base_uri": "https://localhost:8080/"
    },
    "id": "-HDcjv3bm_ca",
    "outputId": "61ea4a8f-4212-477d-ab11-ec7fa98194ad"
   },
   "outputs": [
    {
     "name": "stdout",
     "output_type": "stream",
     "text": [
      "Avant la pause\n",
      "Après la pause\n"
     ]
    }
   ],
   "source": [
    "import time\n",
    "\n",
    "print(\"Avant la pause\")\n",
    "time.sleep(5)\n",
    "print(\"Après la pause\")\n"
   ]
  },
  {
   "cell_type": "code",
   "execution_count": null,
   "metadata": {
    "colab": {
     "base_uri": "https://localhost:8080/"
    },
    "id": "PntBK0ROnGOp",
    "outputId": "d2b716d5-b468-4435-87b2-848f010f5fe5"
   },
   "outputs": [
    {
     "name": "stdout",
     "output_type": "stream",
     "text": [
      "2023-06-17 18:27:33\n"
     ]
    }
   ],
   "source": [
    "import time\n",
    "\n",
    "current_time = time.localtime()\n",
    "formatted_time = time.strftime(\"%Y-%m-%d %H:%M:%S\", current_time)\n",
    "print(formatted_time)\n"
   ]
  },
  {
   "cell_type": "markdown",
   "metadata": {
    "id": "Sem4OD5knoG-"
   },
   "source": [
    "### Bibliothèque dateutil"
   ]
  },
  {
   "cell_type": "code",
   "execution_count": 1,
   "metadata": {
    "colab": {
     "base_uri": "https://localhost:8080/",
     "height": 363
    },
    "id": "X42UcMrXnsUn",
    "outputId": "fed97e6b-8721-4e4a-980e-cc80d3f204e9"
   },
   "outputs": [
    {
     "ename": "ParserError",
     "evalue": "Unknown string format: 15 mai 2023",
     "output_type": "error",
     "traceback": [
      "\u001b[1;31m---------------------------------------------------------------------------\u001b[0m",
      "\u001b[1;31mParserError\u001b[0m                               Traceback (most recent call last)",
      "\u001b[1;32m<ipython-input-1-074596083a31>\u001b[0m in \u001b[0;36m<module>\u001b[1;34m\u001b[0m\n\u001b[0;32m      2\u001b[0m \u001b[1;33m\u001b[0m\u001b[0m\n\u001b[0;32m      3\u001b[0m \u001b[0mstr_date\u001b[0m \u001b[1;33m=\u001b[0m \u001b[1;34m\"15 mai 2023\"\u001b[0m\u001b[1;33m\u001b[0m\u001b[1;33m\u001b[0m\u001b[0m\n\u001b[1;32m----> 4\u001b[1;33m \u001b[0mparsed_date\u001b[0m \u001b[1;33m=\u001b[0m \u001b[0mparse\u001b[0m\u001b[1;33m(\u001b[0m\u001b[0mstr_date\u001b[0m\u001b[1;33m)\u001b[0m\u001b[1;33m\u001b[0m\u001b[1;33m\u001b[0m\u001b[0m\n\u001b[0m\u001b[0;32m      5\u001b[0m \u001b[0mprint\u001b[0m\u001b[1;33m(\u001b[0m\u001b[0mparsed_date\u001b[0m\u001b[1;33m)\u001b[0m\u001b[1;33m\u001b[0m\u001b[1;33m\u001b[0m\u001b[0m\n",
      "\u001b[1;32mD:\\anaconda3\\lib\\site-packages\\dateutil\\parser\\_parser.py\u001b[0m in \u001b[0;36mparse\u001b[1;34m(timestr, parserinfo, **kwargs)\u001b[0m\n\u001b[0;32m   1372\u001b[0m         \u001b[1;32mreturn\u001b[0m \u001b[0mparser\u001b[0m\u001b[1;33m(\u001b[0m\u001b[0mparserinfo\u001b[0m\u001b[1;33m)\u001b[0m\u001b[1;33m.\u001b[0m\u001b[0mparse\u001b[0m\u001b[1;33m(\u001b[0m\u001b[0mtimestr\u001b[0m\u001b[1;33m,\u001b[0m \u001b[1;33m**\u001b[0m\u001b[0mkwargs\u001b[0m\u001b[1;33m)\u001b[0m\u001b[1;33m\u001b[0m\u001b[1;33m\u001b[0m\u001b[0m\n\u001b[0;32m   1373\u001b[0m     \u001b[1;32melse\u001b[0m\u001b[1;33m:\u001b[0m\u001b[1;33m\u001b[0m\u001b[1;33m\u001b[0m\u001b[0m\n\u001b[1;32m-> 1374\u001b[1;33m         \u001b[1;32mreturn\u001b[0m \u001b[0mDEFAULTPARSER\u001b[0m\u001b[1;33m.\u001b[0m\u001b[0mparse\u001b[0m\u001b[1;33m(\u001b[0m\u001b[0mtimestr\u001b[0m\u001b[1;33m,\u001b[0m \u001b[1;33m**\u001b[0m\u001b[0mkwargs\u001b[0m\u001b[1;33m)\u001b[0m\u001b[1;33m\u001b[0m\u001b[1;33m\u001b[0m\u001b[0m\n\u001b[0m\u001b[0;32m   1375\u001b[0m \u001b[1;33m\u001b[0m\u001b[0m\n\u001b[0;32m   1376\u001b[0m \u001b[1;33m\u001b[0m\u001b[0m\n",
      "\u001b[1;32mD:\\anaconda3\\lib\\site-packages\\dateutil\\parser\\_parser.py\u001b[0m in \u001b[0;36mparse\u001b[1;34m(self, timestr, default, ignoretz, tzinfos, **kwargs)\u001b[0m\n\u001b[0;32m    647\u001b[0m \u001b[1;33m\u001b[0m\u001b[0m\n\u001b[0;32m    648\u001b[0m         \u001b[1;32mif\u001b[0m \u001b[0mres\u001b[0m \u001b[1;32mis\u001b[0m \u001b[1;32mNone\u001b[0m\u001b[1;33m:\u001b[0m\u001b[1;33m\u001b[0m\u001b[1;33m\u001b[0m\u001b[0m\n\u001b[1;32m--> 649\u001b[1;33m             \u001b[1;32mraise\u001b[0m \u001b[0mParserError\u001b[0m\u001b[1;33m(\u001b[0m\u001b[1;34m\"Unknown string format: %s\"\u001b[0m\u001b[1;33m,\u001b[0m \u001b[0mtimestr\u001b[0m\u001b[1;33m)\u001b[0m\u001b[1;33m\u001b[0m\u001b[1;33m\u001b[0m\u001b[0m\n\u001b[0m\u001b[0;32m    650\u001b[0m \u001b[1;33m\u001b[0m\u001b[0m\n\u001b[0;32m    651\u001b[0m         \u001b[1;32mif\u001b[0m \u001b[0mlen\u001b[0m\u001b[1;33m(\u001b[0m\u001b[0mres\u001b[0m\u001b[1;33m)\u001b[0m \u001b[1;33m==\u001b[0m \u001b[1;36m0\u001b[0m\u001b[1;33m:\u001b[0m\u001b[1;33m\u001b[0m\u001b[1;33m\u001b[0m\u001b[0m\n",
      "\u001b[1;31mParserError\u001b[0m: Unknown string format: 15 mai 2023"
     ]
    }
   ],
   "source": [
    "from dateutil.parser import parse\n",
    "\n",
    "str_date = \"15 mai 2023\"\n",
    "parsed_date = parse(str_date)\n",
    "print(parsed_date)\n"
   ]
  },
  {
   "cell_type": "code",
   "execution_count": null,
   "metadata": {
    "colab": {
     "base_uri": "https://localhost:8080/"
    },
    "id": "sI6KGvncnysD",
    "outputId": "d6007cd0-7980-4ab2-b097-72011160e3c0"
   },
   "outputs": [
    {
     "name": "stdout",
     "output_type": "stream",
     "text": [
      "2023-05-15 08:00:00-04:00\n",
      "2023-05-15 14:00:00+02:00\n"
     ]
    }
   ],
   "source": [
    "from datetime import datetime\n",
    "from dateutil import tz\n",
    "\n",
    "dt = datetime(2023, 5, 15, 12, 0)\n",
    "tz_ny = tz.gettz('America/New_York')\n",
    "tz_paris = tz.gettz('Europe/Paris')\n",
    "\n",
    "dt_ny = dt.astimezone(tz_ny)\n",
    "dt_paris = dt.astimezone(tz_paris)\n",
    "\n",
    "print(dt_ny)\n",
    "print(dt_paris)\n"
   ]
  },
  {
   "cell_type": "code",
   "execution_count": null,
   "metadata": {
    "colab": {
     "base_uri": "https://localhost:8080/"
    },
    "id": "0B0V67MGn4Na",
    "outputId": "9962ae85-f2a8-48b0-f188-856ac737e19e"
   },
   "outputs": [
    {
     "name": "stdout",
     "output_type": "stream",
     "text": [
      "2023-05-22 00:00:00\n",
      "2023-04-15 00:00:00\n",
      "2024-05-15 00:00:00\n"
     ]
    }
   ],
   "source": [
    "from datetime import datetime, timedelta\n",
    "from dateutil.relativedelta import relativedelta\n",
    "\n",
    "dt = datetime(2023, 5, 15)\n",
    "dt_plus_7_days = dt + timedelta(days=7)\n",
    "dt_minus_1_month = dt - relativedelta(months=1)\n",
    "dt_plus_1_year = dt + relativedelta(years=1)\n",
    "\n",
    "print(dt_plus_7_days)\n",
    "print(dt_minus_1_month)\n",
    "print(dt_plus_1_year)\n"
   ]
  },
  {
   "cell_type": "markdown",
   "metadata": {
    "id": "IDwL9pHnpD72"
   },
   "source": [
    "### Bibliothèque Pandas"
   ]
  },
  {
   "cell_type": "code",
   "execution_count": null,
   "metadata": {
    "colab": {
     "base_uri": "https://localhost:8080/"
    },
    "id": "2SgzYvtJpHQv",
    "outputId": "efc619e4-5f1e-4b5c-cece-622ef1887c99"
   },
   "outputs": [
    {
     "name": "stdout",
     "output_type": "stream",
     "text": [
      "2023-05-15    10\n",
      "2023-05-16    20\n",
      "2023-05-17    30\n",
      "dtype: int64\n"
     ]
    }
   ],
   "source": [
    "import pandas as pd\n",
    "\n",
    "dates = pd.DatetimeIndex(['2023-05-15', '2023-05-16', '2023-05-17'])\n",
    "values = [10, 20, 30]\n",
    "series = pd.Series(values, index=dates)\n",
    "print(series)\n"
   ]
  },
  {
   "cell_type": "code",
   "execution_count": null,
   "metadata": {
    "colab": {
     "base_uri": "https://localhost:8080/"
    },
    "id": "6IC5wPoqpMSt",
    "outputId": "524879fc-2e68-4a1c-df03-17b07c18d3ca"
   },
   "outputs": [
    {
     "name": "stdout",
     "output_type": "stream",
     "text": [
      "2023-05-15 00:00:00\n",
      "DatetimeIndex(['2023-05-15', '2023-05-16', '2023-05-17', '2023-05-18',\n",
      "               '2023-05-19', '2023-05-20'],\n",
      "              dtype='datetime64[ns]', freq='D')\n"
     ]
    }
   ],
   "source": [
    "import pandas as pd\n",
    "\n",
    "date_str = '2023-05-15'\n",
    "dt = pd.to_datetime(date_str)\n",
    "print(dt)\n",
    "\n",
    "start_date = '2023-05-15'\n",
    "end_date = '2023-05-20'\n",
    "date_range = pd.date_range(start=start_date, end=end_date)\n",
    "print(date_range)\n"
   ]
  },
  {
   "cell_type": "code",
   "execution_count": null,
   "metadata": {
    "colab": {
     "base_uri": "https://localhost:8080/"
    },
    "id": "uhIj86FSpUCi",
    "outputId": "bf377184-2e02-4975-a090-64cc100244a2"
   },
   "outputs": [
    {
     "name": "stdout",
     "output_type": "stream",
     "text": [
      "2023-05-15     NaN\n",
      "2023-05-16    10.0\n",
      "2023-05-17    20.0\n",
      "dtype: float64\n",
      "2023-05-31    20.0\n",
      "Freq: M, dtype: float64\n",
      "2023-05-15     NaN\n",
      "2023-05-16     NaN\n",
      "2023-05-17    20.0\n",
      "dtype: float64\n"
     ]
    }
   ],
   "source": [
    "import pandas as pd\n",
    "\n",
    "series_shifted = series.shift(periods=1)\n",
    "print(series_shifted)\n",
    "\n",
    "monthly_average = series.resample('M').mean()\n",
    "print(monthly_average)\n",
    "\n",
    "rolling_average = series.rolling(window=3).mean()\n",
    "print(rolling_average)\n"
   ]
  },
  {
   "cell_type": "code",
   "execution_count": null,
   "metadata": {
    "colab": {
     "base_uri": "https://localhost:8080/"
    },
    "id": "w0uD3FbxphNm",
    "outputId": "6c51fcfe-4cd4-48f7-d7a4-825a47c83359"
   },
   "outputs": [
    {
     "name": "stdout",
     "output_type": "stream",
     "text": [
      "2023-05-16 00:00:00\n",
      "5 days 00:00:00\n"
     ]
    }
   ],
   "source": [
    "import pandas as pd\n",
    "\n",
    "date_str = '2023-05-15'\n",
    "import pandas as pd\n",
    "\n",
    "# Ajout d'une durée à une date\n",
    "dt_plus_1_day = dt + pd.Timedelta(days=1)\n",
    "print(dt_plus_1_day)\n",
    "\n",
    "# Calcul de la différence entre deux dates\n",
    "dt1 = pd.to_datetime('2023-05-15')\n",
    "dt2 = pd.to_datetime('2023-05-20')\n",
    "diff = dt2 - dt1\n",
    "print(diff)\n",
    "\n"
   ]
  },
  {
   "cell_type": "markdown",
   "metadata": {
    "id": "UsU45MXq5Qbr"
   },
   "source": [
    "# 7 - Les bases de la programmation objet"
   ]
  },
  {
   "cell_type": "markdown",
   "metadata": {
    "id": "LY1ot8nysQKB"
   },
   "source": [
    "## Instanciation, destruction"
   ]
  },
  {
   "cell_type": "code",
   "execution_count": null,
   "metadata": {
    "id": "1WrZi_dYsPxF"
   },
   "outputs": [],
   "source": [
    "class MaPremiereClasse:\n",
    "  def __init__(self, nom):\n",
    "    self.nom = nom\n",
    "    print(\"Construction de l'objet de nom: \" + self.nom)"
   ]
  },
  {
   "cell_type": "code",
   "execution_count": null,
   "metadata": {
    "colab": {
     "base_uri": "https://localhost:8080/"
    },
    "id": "oO1erJ7usqfk",
    "outputId": "fe20343c-7d4b-48e0-b422-c0f7c58fe07f"
   },
   "outputs": [
    {
     "name": "stdout",
     "output_type": "stream",
     "text": [
      "Construction de l'objet de nom: toto\n"
     ]
    }
   ],
   "source": [
    "mon_premier_objet = MaPremiereClasse(\"toto\")"
   ]
  },
  {
   "cell_type": "code",
   "execution_count": null,
   "metadata": {
    "id": "C0E9ewBvtEN-"
   },
   "outputs": [],
   "source": [
    "class MaSecondeClasse:\n",
    "  def __init__(self, nom):\n",
    "    self.nom = nom\n",
    "    print(\"Construction de l'objet de nom: \" + self.nom)\n",
    "\n",
    "  def __del__(self):\n",
    "    print(\"Destruction de l'objet de nom: \" + self.nom)"
   ]
  },
  {
   "cell_type": "code",
   "execution_count": null,
   "metadata": {
    "colab": {
     "base_uri": "https://localhost:8080/"
    },
    "id": "H5HHlcOWtP7c",
    "outputId": "ee9cb908-4f5a-4c78-a30f-871d13016ed8"
   },
   "outputs": [
    {
     "name": "stdout",
     "output_type": "stream",
     "text": [
      "Construction de l'objet de nom: toto\n",
      "Destruction de l'objet de nom: toto\n"
     ]
    }
   ],
   "source": [
    "mon_second_objet = MaSecondeClasse(\"toto\")\n",
    "del mon_second_objet"
   ]
  },
  {
   "cell_type": "markdown",
   "metadata": {
    "id": "1B6vBeb50WVN"
   },
   "source": [
    "## Encapsulation, aggrégation"
   ]
  },
  {
   "cell_type": "code",
   "execution_count": null,
   "metadata": {
    "id": "Zxh2gD8H0b71"
   },
   "outputs": [],
   "source": [
    "class Pneu:\n",
    "  def __init__(self, marque):\n",
    "    self.marque = marque\n",
    "\n",
    "  def gonfler(self):\n",
    "    print(\"Pneu gonflé\")\n",
    "\n",
    "\n",
    "class Roue:\n",
    "  pneu = Pneu(\"Goodyear\")\n",
    "\n",
    "\n",
    "class Moteur:\n",
    "  def __init__(self, puissance):\n",
    "    self.puissance = puissance\n",
    "\n",
    "  def demarrer(self):\n",
    "    print(\"Moteur démarré\")\n",
    "\n",
    "  def arreter(self):\n",
    "    print(\"Moteur arreté\")\n",
    "\n",
    "\n",
    "class Voiture:\n",
    "  roues = [Roue(), Roue(), Roue(), Roue()]\n",
    "  moteur = Moteur(\"16CV\")\n",
    "\n",
    "  def __init__(self, plaque):\n",
    "    self.plaque = plaque\n",
    "\n",
    "  def demarrer(self):\n",
    "    print(\"Demarrage de la voiture\")\n",
    "    self.moteur.demarrer()"
   ]
  },
  {
   "cell_type": "code",
   "execution_count": null,
   "metadata": {
    "colab": {
     "base_uri": "https://localhost:8080/"
    },
    "id": "FtmChG8r2F4G",
    "outputId": "030c837e-964b-423a-9f99-2c00b2654fed"
   },
   "outputs": [
    {
     "name": "stdout",
     "output_type": "stream",
     "text": [
      "Demarrage de la voiture\n",
      "Moteur démarré\n"
     ]
    }
   ],
   "source": [
    "ma_voiture = Voiture(\"45056FR\")\n",
    "ma_voiture.demarrer()"
   ]
  },
  {
   "cell_type": "markdown",
   "metadata": {
    "id": "rjueG87E3iPz"
   },
   "source": [
    "## **Héritage**"
   ]
  },
  {
   "cell_type": "code",
   "execution_count": null,
   "metadata": {
    "id": "aVui3IF13mBt"
   },
   "outputs": [],
   "source": [
    "class Mammifère:\n",
    "  def __init__(self):\n",
    "    print(\"Constructeur Mammifère\")\n",
    "\n",
    "  def allaiter(self):\n",
    "    print(\"allaiter\")"
   ]
  },
  {
   "cell_type": "code",
   "execution_count": null,
   "metadata": {
    "id": "biCaTLoW3yxl"
   },
   "outputs": [],
   "source": [
    "class Félidé(Mammifère):\n",
    "  def __init__(self):\n",
    "    print(\"Constructeur Félidé\")\n",
    "\n",
    "  def laper(self):\n",
    "    print(\"laper\")\n",
    "\n",
    "\n",
    "class Cétacé(Mammifère):\n",
    "  def __init__(self):\n",
    "    print(\"Constructeur Cétacé\")\n",
    "\n",
    "  def nager(self):\n",
    "    print(\"nager\")"
   ]
  },
  {
   "cell_type": "code",
   "execution_count": null,
   "metadata": {
    "colab": {
     "base_uri": "https://localhost:8080/"
    },
    "id": "FqJ6QLSx4Ek_",
    "outputId": "f0a0f618-b34b-422b-9cc7-4ffad24cb541"
   },
   "outputs": [
    {
     "name": "stdout",
     "output_type": "stream",
     "text": [
      "Constructeur Mammifère\n",
      "allaiter\n",
      "Constructeur Félidé\n",
      "laper\n",
      "allaiter\n",
      "Constructeur Cétacé\n",
      "nager\n",
      "allaiter\n"
     ]
    }
   ],
   "source": [
    "mamm = Mammifère()\n",
    "mamm.allaiter()\n",
    "\n",
    "chat = Félidé()\n",
    "chat.laper()\n",
    "chat.allaiter()\n",
    "\n",
    "baleine = Cétacé()\n",
    "baleine.nager()\n",
    "baleine.allaiter()\n"
   ]
  },
  {
   "cell_type": "code",
   "execution_count": null,
   "metadata": {
    "id": "uJ23KSaW98gb"
   },
   "outputs": [],
   "source": [
    "class Male(Mammifère):\n",
    "  def __init__(self):\n",
    "    print(\"Constructeur Male\")\n",
    "\n",
    "  def allaiter(self):\n",
    "    print(\"Pas possible\")\n",
    "\n",
    "\n",
    "class Femelle(Mammifère):\n",
    "  def __init__(self):\n",
    "    print(\"Constructeur Femelle\")\n",
    "\n",
    "  def allaiter(self):\n",
    "    print(\"Let's go\")\n"
   ]
  },
  {
   "cell_type": "code",
   "execution_count": null,
   "metadata": {
    "colab": {
     "base_uri": "https://localhost:8080/"
    },
    "id": "gj7ppopM-O1U",
    "outputId": "6edb0659-7398-4d5b-af51-b53687c9aa08"
   },
   "outputs": [
    {
     "name": "stdout",
     "output_type": "stream",
     "text": [
      "Constructeur Mammifère\n",
      "allaiter\n",
      "Constructeur Male\n",
      "Pas possible\n",
      "Constructeur Femelle\n",
      "Let's go\n"
     ]
    }
   ],
   "source": [
    "mamm = Mammifère()\n",
    "mamm.allaiter()\n",
    "\n",
    "male = Male()\n",
    "male.allaiter()\n",
    "\n",
    "femelle = Femelle()\n",
    "femelle.allaiter()\n"
   ]
  },
  {
   "cell_type": "markdown",
   "metadata": {
    "id": "jcdm16zCDBCH"
   },
   "source": [
    "### **Introspection**"
   ]
  },
  {
   "cell_type": "code",
   "execution_count": null,
   "metadata": {
    "colab": {
     "base_uri": "https://localhost:8080/"
    },
    "id": "tQpBH27HDHct",
    "outputId": "4399ac4d-db1a-43ee-cfd4-8224a1952f4b"
   },
   "outputs": [
    {
     "name": "stdout",
     "output_type": "stream",
     "text": [
      "<class 'type'>\n",
      "<class '__main__.Mammifère'>\n",
      "['__class__', '__delattr__', '__dict__', '__dir__', '__doc__', '__eq__', '__format__', '__ge__', '__getattribute__', '__gt__', '__hash__', '__init__', '__init_subclass__', '__le__', '__lt__', '__module__', '__ne__', '__new__', '__reduce__', '__reduce_ex__', '__repr__', '__setattr__', '__sizeof__', '__str__', '__subclasshook__', '__weakref__', 'allaiter']\n",
      "<class '__main__.Femelle'>\n",
      "<class 'type'>\n",
      "<class '__main__.Cétacé'>\n"
     ]
    },
    {
     "data": {
      "text/plain": [
       "<bound method Cétacé.nager of <__main__.Cétacé object at 0x7f340d9f51e0>>"
      ]
     },
     "execution_count": 22,
     "metadata": {},
     "output_type": "execute_result"
    }
   ],
   "source": [
    "print(type(Mammifère))\n",
    "print(type(mamm))\n",
    "print(dir(mamm))\n",
    "\n",
    "print(type(femelle))\n",
    "print(type(Femelle))\n",
    "print(type(baleine))\n",
    "\n",
    "getattr(baleine, \"allaiter\")\n",
    "getattr(baleine, \"nager\")\n"
   ]
  },
  {
   "cell_type": "markdown",
   "metadata": {
    "id": "m_ganFXJDILU"
   },
   "source": [
    "### **TRAVAUX PRATIQUES: Guess the number**"
   ]
  },
  {
   "cell_type": "markdown",
   "metadata": {
    "id": "vDslSxA2G1zd"
   },
   "source": [
    "### **Choisir un nombre entier entre 1 et 100 aléatoirement et stocker le dans une variable**"
   ]
  },
  {
   "cell_type": "code",
   "execution_count": null,
   "metadata": {
    "colab": {
     "base_uri": "https://localhost:8080/"
    },
    "id": "cM3wRtcUHDDu",
    "outputId": "7bf8d89c-32da-4dd4-a841-50606a745bb7"
   },
   "outputs": [
    {
     "name": "stdout",
     "output_type": "stream",
     "text": [
      "82\n"
     ]
    }
   ],
   "source": [
    "import random\n",
    "numberToGuess = random.randint(0,100)\n",
    "print(numberToGuess)"
   ]
  },
  {
   "cell_type": "markdown",
   "metadata": {
    "id": "UqVeGNOp5q7h"
   },
   "source": [
    "### **Boucler sur un nombre de coups à jouer: si le magic number est trouvé, Victoire, sinon au bout des N coups, Echec**"
   ]
  },
  {
   "cell_type": "code",
   "execution_count": null,
   "metadata": {
    "id": "axehuk-M5pTx"
   },
   "outputs": [],
   "source": [
    "nombre_de_coups_max = 10\n",
    "nombre_de_coups_joués = 0\n",
    "ordinateur_gagnant = True\n",
    "\n",
    "while nombre_de_coups_joués < nombre_de_coups_max:\n",
    "  guessedNumber = int(input (\"Enter number :\"))\n",
    "\n",
    "  if numberToGuess == guessedNumber:\n",
    "    print(\"Victoire\")\n",
    "    ordinateur_gagnant = False\n",
    "    break\n",
    "  else:\n",
    "    print(\"weird\")\n",
    "\n",
    "  nombre_de_coups_joués += 1\n",
    "\n",
    "if ordinateur_gagnant:\n",
    "  print(\"Défaite\")"
   ]
  },
  {
   "cell_type": "markdown",
   "metadata": {
    "id": "847xrra-8wbT"
   },
   "source": [
    "### **Créer la stratégie de l'ordinateur pour jouer contre vous**\n",
    "\n",
    "\n",
    "\n",
    "\n"
   ]
  },
  {
   "cell_type": "code",
   "execution_count": null,
   "metadata": {
    "colab": {
     "base_uri": "https://localhost:8080/"
    },
    "id": "zdd3I8DK8wyA",
    "outputId": "f9f09c6a-6dd0-4505-f48a-092871ef7e99"
   },
   "outputs": [
    {
     "name": "stdout",
     "output_type": "stream",
     "text": [
      "82\n",
      "Enter number :82\n",
      "Victoire du joueur humain\n"
     ]
    }
   ],
   "source": [
    "nombre_de_coups_max = 10\n",
    "nombre_de_coups_joués = 0\n",
    "ordinateur_gagnant = False\n",
    "humain_gagnant = False\n",
    "\n",
    "def get_computer_choice():\n",
    "  return random.randint(0,100)\n",
    "\n",
    "print(numberToGuess)\n",
    "\n",
    "while nombre_de_coups_joués < nombre_de_coups_max:\n",
    "  guessedNumberFromComputerPlayer = get_computer_choice()\n",
    "  if numberToGuess == guessedNumberFromComputerPlayer:\n",
    "    print(\"Victoire de l'ordinateur\")\n",
    "    ordinateur_gagnant = True\n",
    "    break\n",
    "\n",
    "  guessedNumberFromHumanPlayer = int(input (\"Enter number :\"))\n",
    "  if numberToGuess == guessedNumberFromHumanPlayer:\n",
    "    print(\"Victoire du joueur humain\")\n",
    "    humain_gagnant = True\n",
    "    break\n",
    "\n",
    "  nombre_de_coups_joués += 1\n",
    "\n",
    "if ordinateur_gagnant == False and humain_gagnant == False:\n",
    "  print(\"Défaite des deux joueurs\")"
   ]
  },
  {
   "cell_type": "markdown",
   "metadata": {
    "id": "MQrKJEYFB96D"
   },
   "source": [
    "### **Créer une stratégie plus évoluée de l'ordinateur pour jouer contre vous dans le cas où on vous indique trop haut ou trop bas**"
   ]
  },
  {
   "cell_type": "code",
   "execution_count": null,
   "metadata": {
    "id": "skHzCxGhB-OH"
   },
   "outputs": [],
   "source": [
    "nombre_de_coups_max = 10\n",
    "nombre_de_coups_joués = 0\n",
    "ordinateur_gagnant = False\n",
    "humain_gagnant = False\n",
    "\n",
    "borne_min = 0\n",
    "borne_max = 100\n",
    "\n",
    "def get_computer_choice():\n",
    "  #print(\"Choix aléatoire entre %d et %d\" % (borne_min, borne_max))\n",
    "  return random.randint(borne_min, borne_max)\n",
    "\n",
    "print(numberToGuess)\n",
    "\n",
    "while nombre_de_coups_joués < nombre_de_coups_max:\n",
    "  nombre_de_coups_joués += 1\n",
    "  guessedNumberFromComputerPlayer = get_computer_choice()\n",
    "  if numberToGuess < guessedNumberFromComputerPlayer:\n",
    "    print(\"%d est trop haut\" % guessedNumberFromComputerPlayer)\n",
    "    borne_max = guessedNumberFromComputerPlayer - 1\n",
    "  elif numberToGuess > guessedNumberFromComputerPlayer:\n",
    "    print(\"%d est trop bas\" % guessedNumberFromComputerPlayer)\n",
    "    borne_min = guessedNumberFromComputerPlayer + 1\n",
    "  else:\n",
    "    print(\"Victoire de l'ordinateur en %d coups\" % (nombre_de_coups_joués))\n",
    "    ordinateur_gagnant = True\n",
    "    break\n",
    "\n",
    "  guessedNumberFromHumanPlayer = int(input (\"Enter number :\"))\n",
    "  if numberToGuess < guessedNumberFromHumanPlayer:\n",
    "    print(\"%d est trop haut\" % guessedNumberFromHumanPlayer)\n",
    "    borne_max = min(borne_max, guessedNumberFromHumanPlayer)\n",
    "  elif numberToGuess > guessedNumberFromHumanPlayer:\n",
    "    print(\"%d est trop bas\" % guessedNumberFromHumanPlayer)\n",
    "    borne_min = max(borne_min, guessedNumberFromHumanPlayer)\n",
    "  else:\n",
    "    print(\"Victoire du joueur humain en %d coups\" % (nombre_de_coups_joués))\n",
    "    humain_gagnant = True\n",
    "    break\n",
    "\n",
    "if ordinateur_gagnant == False and humain_gagnant == False:\n",
    "  print(\"Défaite des deux joueurs\")\n",
    "\n",
    "print(\"Le magic number est: %d\" % numberToGuess)"
   ]
  },
  {
   "cell_type": "markdown",
   "metadata": {
    "id": "YaDoiph3KB43"
   },
   "source": [
    "### **Mutualiser les codes redondants et en faire des classes**"
   ]
  },
  {
   "cell_type": "code",
   "execution_count": null,
   "metadata": {
    "id": "Z5Fc-gvoKO6D"
   },
   "outputs": [],
   "source": [
    "class StrategieDeJeu:\n",
    "  borne_min = 0\n",
    "  borne_max = 100\n",
    "\n",
    "  def get_computer_choice(self):\n",
    "    return\n",
    "    #print(\"Choix aléatoire entre %d et %d\" % (borne_min, borne_max))\n",
    "    return random.randint(self.borne_min, self.borne_max)\n",
    "\n",
    "class StrategieAleatoire(StrategieDeJeu):\n",
    "  def get_computer_choice(self):\n",
    "    return random.randint(self.borne_min, self.borne_max)\n",
    "\n",
    "class StrategieDichotomie(StrategieDeJeu):\n",
    "  def get_computer_choice(self):\n",
    "    print(\"%d %d %d\" % (self.borne_min, self.borne_max, int((self.borne_max - self.borne_min) / 2)+self.borne_min))\n",
    "    return int((self.borne_max - self.borne_min) / 2) + self.borne_min\n",
    "\n",
    "class StrategieHumaine(StrategieDeJeu):\n",
    "  def get_computer_choice(self):\n",
    "    return int(input (\"Enter number :\"))\n",
    "\n",
    "\n",
    "class Joueur:\n",
    "  nom= \"\"\n",
    "  gagnant = False\n",
    "  strategie_joueur = None\n",
    "\n",
    "  def __init__(self, strategie):\n",
    "    self.strategie_joueur = strategie\n",
    "\n",
    "  def choisir_un_nombre(self):\n",
    "    pass\n",
    "\n",
    "\n",
    "class Bot(Joueur):\n",
    "  def __init__(self, strategie):\n",
    "    super().__init__(strategie)\n",
    "    self.nom = \"Bot\"\n",
    "\n",
    "  def choisir_un_nombre(self):\n",
    "    return self.strategie_joueur.get_computer_choice()\n",
    "\n",
    "\n",
    "class Humain(Joueur):\n",
    "  def __init__(self, nom):\n",
    "    super().__init__(StrategieHumaine())\n",
    "    self.nom = \"Humain\"\n",
    "\n",
    "  def choisir_un_nombre(self):\n",
    "    return self.strategie_joueur.get_computer_choice()\n",
    "\n",
    "\n",
    "class Partie:\n",
    "  nombre_de_coups_max = 10\n",
    "  ordinateur_gagnant = False\n",
    "  humain_gagnant = False\n",
    "\n",
    "  def jouer(self):\n",
    "    #strategie_ordinateur = StrategieDeJeu()\n",
    "    nombre_de_coups_joués = 0\n",
    "\n",
    "    bot1 = Bot(StrategieAleatoire())\n",
    "    bot2 = Bot(StrategieDichotomie())\n",
    "\n",
    "    humain = Humain(\"Humain 1\")\n",
    "    joueurs = (bot1, bot2, humain)\n",
    "\n",
    "    while nombre_de_coups_joués < nombre_de_coups_max:\n",
    "      nombre_de_coups_joués += 1\n",
    "\n",
    "      for joueur in joueurs:\n",
    "        (joueur_gagnant, borne_min, borne_max) = self.fait_jouer_un_joueur(joueur, nombre_de_coups_joués)\n",
    "        if joueur_gagnant == True:\n",
    "          nombre_de_coups_joués = nombre_de_coups_max\n",
    "          break\n",
    "\n",
    "    if joueur_gagnant == False:\n",
    "      print(\"Défaite de tous les joueurs\")\n",
    "\n",
    "  def fait_jouer_un_joueur(self, joueur, nb_coups):\n",
    "    joueur_gagnant = False\n",
    "    guessedNumberFromComputerPlayer = joueur.choisir_un_nombre()\n",
    "    if numberToGuess < guessedNumberFromComputerPlayer:\n",
    "      print(\"%d est trop haut\" % guessedNumberFromComputerPlayer)\n",
    "      joueur.strategie_joueur.borne_max = guessedNumberFromComputerPlayer - 1\n",
    "    elif numberToGuess > guessedNumberFromComputerPlayer:\n",
    "      print(\"%d est trop bas\" % guessedNumberFromComputerPlayer)\n",
    "      joueur.strategie_joueur.borne_min = guessedNumberFromComputerPlayer + 1\n",
    "    else:\n",
    "      print(\"Victoire du joueur: %s en %d coups\" % (joueur.nom, nb_coups))\n",
    "      joueur_gagnant = True\n",
    "\n",
    "    return (joueur_gagnant, joueur.strategie_joueur.borne_min, joueur.strategie_joueur.borne_max)\n",
    "\n",
    "print(\"Le magic number est: %d\" % numberToGuess)\n",
    "partie = Partie()\n",
    "partie.jouer()"
   ]
  }
 ],
 "metadata": {
  "colab": {
   "provenance": []
  },
  "kernelspec": {
   "display_name": "Python 3",
   "language": "python",
   "name": "python3"
  },
  "language_info": {
   "codemirror_mode": {
    "name": "ipython",
    "version": 3
   },
   "file_extension": ".py",
   "mimetype": "text/x-python",
   "name": "python",
   "nbconvert_exporter": "python",
   "pygments_lexer": "ipython3",
   "version": "3.8.8"
  }
 },
 "nbformat": 4,
 "nbformat_minor": 1
}
